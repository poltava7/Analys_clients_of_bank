{
 "cells": [
  {
   "cell_type": "markdown",
   "id": "386f2ae7",
   "metadata": {
    "deletable": false,
    "editable": false,
    "id": "386f2ae7"
   },
   "source": [
    "# Исследование надежности заемщиков\n"
   ]
  },
  {
   "cell_type": "markdown",
   "id": "ffe86f65",
   "metadata": {
    "deletable": false,
    "editable": false,
    "id": "ffe86f65"
   },
   "source": [
    "Во второй части проекта вы выполните шаги 3 и 4. Их вручную проверит ревьюер.\n",
    "Чтобы вам не пришлось писать код заново для шагов 1 и 2, мы добавили авторские решения в ячейки с кодом. \n",
    "\n"
   ]
  },
  {
   "cell_type": "markdown",
   "id": "26613308",
   "metadata": {
    "deletable": false,
    "editable": false,
    "id": "26613308"
   },
   "source": [
    "## Откройте таблицу и изучите общую информацию о данных"
   ]
  },
  {
   "cell_type": "markdown",
   "id": "3c9f838e",
   "metadata": {
    "deletable": false,
    "editable": false,
    "id": "3c9f838e"
   },
   "source": [
    "**Задание 1. Импортируйте библиотеку pandas. Считайте данные из csv-файла в датафрейм и сохраните в переменную `data`. Путь к файлу:**\n",
    "\n",
    "`/datasets/data.csv`"
   ]
  },
  {
   "cell_type": "code",
   "execution_count": 1,
   "id": "77a68a90",
   "metadata": {
    "deletable": false,
    "id": "77a68a90"
   },
   "outputs": [],
   "source": [
    "import pandas as pd\n",
    "\n",
    "try:\n",
    "    data = pd.read_csv('/datasets/data.csv')\n",
    "except:\n",
    "    data = pd.read_csv('https://code.s3.yandex.net/datasets/data.csv')"
   ]
  },
  {
   "cell_type": "markdown",
   "id": "45365635",
   "metadata": {
    "deletable": false,
    "editable": false,
    "id": "45365635"
   },
   "source": [
    "**Задание 2. Выведите первые 20 строчек датафрейма `data` на экран.**"
   ]
  },
  {
   "cell_type": "code",
   "execution_count": 2,
   "id": "b0451a9a",
   "metadata": {
    "deletable": false,
    "id": "b0451a9a",
    "outputId": "1a8f3ef2-d323-4ec2-ddf7-89670b5944c4"
   },
   "outputs": [
    {
     "data": {
      "text/html": [
       "<div>\n",
       "<style scoped>\n",
       "    .dataframe tbody tr th:only-of-type {\n",
       "        vertical-align: middle;\n",
       "    }\n",
       "\n",
       "    .dataframe tbody tr th {\n",
       "        vertical-align: top;\n",
       "    }\n",
       "\n",
       "    .dataframe thead th {\n",
       "        text-align: right;\n",
       "    }\n",
       "</style>\n",
       "<table border=\"1\" class=\"dataframe\">\n",
       "  <thead>\n",
       "    <tr style=\"text-align: right;\">\n",
       "      <th></th>\n",
       "      <th>children</th>\n",
       "      <th>days_employed</th>\n",
       "      <th>dob_years</th>\n",
       "      <th>education</th>\n",
       "      <th>education_id</th>\n",
       "      <th>family_status</th>\n",
       "      <th>family_status_id</th>\n",
       "      <th>gender</th>\n",
       "      <th>income_type</th>\n",
       "      <th>debt</th>\n",
       "      <th>total_income</th>\n",
       "      <th>purpose</th>\n",
       "    </tr>\n",
       "  </thead>\n",
       "  <tbody>\n",
       "    <tr>\n",
       "      <th>0</th>\n",
       "      <td>1</td>\n",
       "      <td>-8437.673028</td>\n",
       "      <td>42</td>\n",
       "      <td>высшее</td>\n",
       "      <td>0</td>\n",
       "      <td>женат / замужем</td>\n",
       "      <td>0</td>\n",
       "      <td>F</td>\n",
       "      <td>сотрудник</td>\n",
       "      <td>0</td>\n",
       "      <td>253875.639453</td>\n",
       "      <td>покупка жилья</td>\n",
       "    </tr>\n",
       "    <tr>\n",
       "      <th>1</th>\n",
       "      <td>1</td>\n",
       "      <td>-4024.803754</td>\n",
       "      <td>36</td>\n",
       "      <td>среднее</td>\n",
       "      <td>1</td>\n",
       "      <td>женат / замужем</td>\n",
       "      <td>0</td>\n",
       "      <td>F</td>\n",
       "      <td>сотрудник</td>\n",
       "      <td>0</td>\n",
       "      <td>112080.014102</td>\n",
       "      <td>приобретение автомобиля</td>\n",
       "    </tr>\n",
       "    <tr>\n",
       "      <th>2</th>\n",
       "      <td>0</td>\n",
       "      <td>-5623.422610</td>\n",
       "      <td>33</td>\n",
       "      <td>Среднее</td>\n",
       "      <td>1</td>\n",
       "      <td>женат / замужем</td>\n",
       "      <td>0</td>\n",
       "      <td>M</td>\n",
       "      <td>сотрудник</td>\n",
       "      <td>0</td>\n",
       "      <td>145885.952297</td>\n",
       "      <td>покупка жилья</td>\n",
       "    </tr>\n",
       "    <tr>\n",
       "      <th>3</th>\n",
       "      <td>3</td>\n",
       "      <td>-4124.747207</td>\n",
       "      <td>32</td>\n",
       "      <td>среднее</td>\n",
       "      <td>1</td>\n",
       "      <td>женат / замужем</td>\n",
       "      <td>0</td>\n",
       "      <td>M</td>\n",
       "      <td>сотрудник</td>\n",
       "      <td>0</td>\n",
       "      <td>267628.550329</td>\n",
       "      <td>дополнительное образование</td>\n",
       "    </tr>\n",
       "    <tr>\n",
       "      <th>4</th>\n",
       "      <td>0</td>\n",
       "      <td>340266.072047</td>\n",
       "      <td>53</td>\n",
       "      <td>среднее</td>\n",
       "      <td>1</td>\n",
       "      <td>гражданский брак</td>\n",
       "      <td>1</td>\n",
       "      <td>F</td>\n",
       "      <td>пенсионер</td>\n",
       "      <td>0</td>\n",
       "      <td>158616.077870</td>\n",
       "      <td>сыграть свадьбу</td>\n",
       "    </tr>\n",
       "    <tr>\n",
       "      <th>5</th>\n",
       "      <td>0</td>\n",
       "      <td>-926.185831</td>\n",
       "      <td>27</td>\n",
       "      <td>высшее</td>\n",
       "      <td>0</td>\n",
       "      <td>гражданский брак</td>\n",
       "      <td>1</td>\n",
       "      <td>M</td>\n",
       "      <td>компаньон</td>\n",
       "      <td>0</td>\n",
       "      <td>255763.565419</td>\n",
       "      <td>покупка жилья</td>\n",
       "    </tr>\n",
       "    <tr>\n",
       "      <th>6</th>\n",
       "      <td>0</td>\n",
       "      <td>-2879.202052</td>\n",
       "      <td>43</td>\n",
       "      <td>высшее</td>\n",
       "      <td>0</td>\n",
       "      <td>женат / замужем</td>\n",
       "      <td>0</td>\n",
       "      <td>F</td>\n",
       "      <td>компаньон</td>\n",
       "      <td>0</td>\n",
       "      <td>240525.971920</td>\n",
       "      <td>операции с жильем</td>\n",
       "    </tr>\n",
       "    <tr>\n",
       "      <th>7</th>\n",
       "      <td>0</td>\n",
       "      <td>-152.779569</td>\n",
       "      <td>50</td>\n",
       "      <td>СРЕДНЕЕ</td>\n",
       "      <td>1</td>\n",
       "      <td>женат / замужем</td>\n",
       "      <td>0</td>\n",
       "      <td>M</td>\n",
       "      <td>сотрудник</td>\n",
       "      <td>0</td>\n",
       "      <td>135823.934197</td>\n",
       "      <td>образование</td>\n",
       "    </tr>\n",
       "    <tr>\n",
       "      <th>8</th>\n",
       "      <td>2</td>\n",
       "      <td>-6929.865299</td>\n",
       "      <td>35</td>\n",
       "      <td>ВЫСШЕЕ</td>\n",
       "      <td>0</td>\n",
       "      <td>гражданский брак</td>\n",
       "      <td>1</td>\n",
       "      <td>F</td>\n",
       "      <td>сотрудник</td>\n",
       "      <td>0</td>\n",
       "      <td>95856.832424</td>\n",
       "      <td>на проведение свадьбы</td>\n",
       "    </tr>\n",
       "    <tr>\n",
       "      <th>9</th>\n",
       "      <td>0</td>\n",
       "      <td>-2188.756445</td>\n",
       "      <td>41</td>\n",
       "      <td>среднее</td>\n",
       "      <td>1</td>\n",
       "      <td>женат / замужем</td>\n",
       "      <td>0</td>\n",
       "      <td>M</td>\n",
       "      <td>сотрудник</td>\n",
       "      <td>0</td>\n",
       "      <td>144425.938277</td>\n",
       "      <td>покупка жилья для семьи</td>\n",
       "    </tr>\n",
       "    <tr>\n",
       "      <th>10</th>\n",
       "      <td>2</td>\n",
       "      <td>-4171.483647</td>\n",
       "      <td>36</td>\n",
       "      <td>высшее</td>\n",
       "      <td>0</td>\n",
       "      <td>женат / замужем</td>\n",
       "      <td>0</td>\n",
       "      <td>M</td>\n",
       "      <td>компаньон</td>\n",
       "      <td>0</td>\n",
       "      <td>113943.491460</td>\n",
       "      <td>покупка недвижимости</td>\n",
       "    </tr>\n",
       "    <tr>\n",
       "      <th>11</th>\n",
       "      <td>0</td>\n",
       "      <td>-792.701887</td>\n",
       "      <td>40</td>\n",
       "      <td>среднее</td>\n",
       "      <td>1</td>\n",
       "      <td>женат / замужем</td>\n",
       "      <td>0</td>\n",
       "      <td>F</td>\n",
       "      <td>сотрудник</td>\n",
       "      <td>0</td>\n",
       "      <td>77069.234271</td>\n",
       "      <td>покупка коммерческой недвижимости</td>\n",
       "    </tr>\n",
       "    <tr>\n",
       "      <th>12</th>\n",
       "      <td>0</td>\n",
       "      <td>NaN</td>\n",
       "      <td>65</td>\n",
       "      <td>среднее</td>\n",
       "      <td>1</td>\n",
       "      <td>гражданский брак</td>\n",
       "      <td>1</td>\n",
       "      <td>M</td>\n",
       "      <td>пенсионер</td>\n",
       "      <td>0</td>\n",
       "      <td>NaN</td>\n",
       "      <td>сыграть свадьбу</td>\n",
       "    </tr>\n",
       "    <tr>\n",
       "      <th>13</th>\n",
       "      <td>0</td>\n",
       "      <td>-1846.641941</td>\n",
       "      <td>54</td>\n",
       "      <td>неоконченное высшее</td>\n",
       "      <td>2</td>\n",
       "      <td>женат / замужем</td>\n",
       "      <td>0</td>\n",
       "      <td>F</td>\n",
       "      <td>сотрудник</td>\n",
       "      <td>0</td>\n",
       "      <td>130458.228857</td>\n",
       "      <td>приобретение автомобиля</td>\n",
       "    </tr>\n",
       "    <tr>\n",
       "      <th>14</th>\n",
       "      <td>0</td>\n",
       "      <td>-1844.956182</td>\n",
       "      <td>56</td>\n",
       "      <td>высшее</td>\n",
       "      <td>0</td>\n",
       "      <td>гражданский брак</td>\n",
       "      <td>1</td>\n",
       "      <td>F</td>\n",
       "      <td>компаньон</td>\n",
       "      <td>1</td>\n",
       "      <td>165127.911772</td>\n",
       "      <td>покупка жилой недвижимости</td>\n",
       "    </tr>\n",
       "    <tr>\n",
       "      <th>15</th>\n",
       "      <td>1</td>\n",
       "      <td>-972.364419</td>\n",
       "      <td>26</td>\n",
       "      <td>среднее</td>\n",
       "      <td>1</td>\n",
       "      <td>женат / замужем</td>\n",
       "      <td>0</td>\n",
       "      <td>F</td>\n",
       "      <td>сотрудник</td>\n",
       "      <td>0</td>\n",
       "      <td>116820.904450</td>\n",
       "      <td>строительство собственной недвижимости</td>\n",
       "    </tr>\n",
       "    <tr>\n",
       "      <th>16</th>\n",
       "      <td>0</td>\n",
       "      <td>-1719.934226</td>\n",
       "      <td>35</td>\n",
       "      <td>среднее</td>\n",
       "      <td>1</td>\n",
       "      <td>женат / замужем</td>\n",
       "      <td>0</td>\n",
       "      <td>F</td>\n",
       "      <td>сотрудник</td>\n",
       "      <td>0</td>\n",
       "      <td>289202.704229</td>\n",
       "      <td>недвижимость</td>\n",
       "    </tr>\n",
       "    <tr>\n",
       "      <th>17</th>\n",
       "      <td>0</td>\n",
       "      <td>-2369.999720</td>\n",
       "      <td>33</td>\n",
       "      <td>высшее</td>\n",
       "      <td>0</td>\n",
       "      <td>гражданский брак</td>\n",
       "      <td>1</td>\n",
       "      <td>M</td>\n",
       "      <td>сотрудник</td>\n",
       "      <td>0</td>\n",
       "      <td>90410.586745</td>\n",
       "      <td>строительство недвижимости</td>\n",
       "    </tr>\n",
       "    <tr>\n",
       "      <th>18</th>\n",
       "      <td>0</td>\n",
       "      <td>400281.136913</td>\n",
       "      <td>53</td>\n",
       "      <td>среднее</td>\n",
       "      <td>1</td>\n",
       "      <td>вдовец / вдова</td>\n",
       "      <td>2</td>\n",
       "      <td>F</td>\n",
       "      <td>пенсионер</td>\n",
       "      <td>0</td>\n",
       "      <td>56823.777243</td>\n",
       "      <td>на покупку подержанного автомобиля</td>\n",
       "    </tr>\n",
       "    <tr>\n",
       "      <th>19</th>\n",
       "      <td>0</td>\n",
       "      <td>-10038.818549</td>\n",
       "      <td>48</td>\n",
       "      <td>СРЕДНЕЕ</td>\n",
       "      <td>1</td>\n",
       "      <td>в разводе</td>\n",
       "      <td>3</td>\n",
       "      <td>F</td>\n",
       "      <td>сотрудник</td>\n",
       "      <td>0</td>\n",
       "      <td>242831.107982</td>\n",
       "      <td>на покупку своего автомобиля</td>\n",
       "    </tr>\n",
       "  </tbody>\n",
       "</table>\n",
       "</div>"
      ],
      "text/plain": [
       "    children  days_employed  dob_years            education  education_id  \\\n",
       "0          1   -8437.673028         42               высшее             0   \n",
       "1          1   -4024.803754         36              среднее             1   \n",
       "2          0   -5623.422610         33              Среднее             1   \n",
       "3          3   -4124.747207         32              среднее             1   \n",
       "4          0  340266.072047         53              среднее             1   \n",
       "5          0    -926.185831         27               высшее             0   \n",
       "6          0   -2879.202052         43               высшее             0   \n",
       "7          0    -152.779569         50              СРЕДНЕЕ             1   \n",
       "8          2   -6929.865299         35               ВЫСШЕЕ             0   \n",
       "9          0   -2188.756445         41              среднее             1   \n",
       "10         2   -4171.483647         36               высшее             0   \n",
       "11         0    -792.701887         40              среднее             1   \n",
       "12         0            NaN         65              среднее             1   \n",
       "13         0   -1846.641941         54  неоконченное высшее             2   \n",
       "14         0   -1844.956182         56               высшее             0   \n",
       "15         1    -972.364419         26              среднее             1   \n",
       "16         0   -1719.934226         35              среднее             1   \n",
       "17         0   -2369.999720         33               высшее             0   \n",
       "18         0  400281.136913         53              среднее             1   \n",
       "19         0  -10038.818549         48              СРЕДНЕЕ             1   \n",
       "\n",
       "       family_status  family_status_id gender income_type  debt  \\\n",
       "0    женат / замужем                 0      F   сотрудник     0   \n",
       "1    женат / замужем                 0      F   сотрудник     0   \n",
       "2    женат / замужем                 0      M   сотрудник     0   \n",
       "3    женат / замужем                 0      M   сотрудник     0   \n",
       "4   гражданский брак                 1      F   пенсионер     0   \n",
       "5   гражданский брак                 1      M   компаньон     0   \n",
       "6    женат / замужем                 0      F   компаньон     0   \n",
       "7    женат / замужем                 0      M   сотрудник     0   \n",
       "8   гражданский брак                 1      F   сотрудник     0   \n",
       "9    женат / замужем                 0      M   сотрудник     0   \n",
       "10   женат / замужем                 0      M   компаньон     0   \n",
       "11   женат / замужем                 0      F   сотрудник     0   \n",
       "12  гражданский брак                 1      M   пенсионер     0   \n",
       "13   женат / замужем                 0      F   сотрудник     0   \n",
       "14  гражданский брак                 1      F   компаньон     1   \n",
       "15   женат / замужем                 0      F   сотрудник     0   \n",
       "16   женат / замужем                 0      F   сотрудник     0   \n",
       "17  гражданский брак                 1      M   сотрудник     0   \n",
       "18    вдовец / вдова                 2      F   пенсионер     0   \n",
       "19         в разводе                 3      F   сотрудник     0   \n",
       "\n",
       "     total_income                                 purpose  \n",
       "0   253875.639453                           покупка жилья  \n",
       "1   112080.014102                 приобретение автомобиля  \n",
       "2   145885.952297                           покупка жилья  \n",
       "3   267628.550329              дополнительное образование  \n",
       "4   158616.077870                         сыграть свадьбу  \n",
       "5   255763.565419                           покупка жилья  \n",
       "6   240525.971920                       операции с жильем  \n",
       "7   135823.934197                             образование  \n",
       "8    95856.832424                   на проведение свадьбы  \n",
       "9   144425.938277                 покупка жилья для семьи  \n",
       "10  113943.491460                    покупка недвижимости  \n",
       "11   77069.234271       покупка коммерческой недвижимости  \n",
       "12            NaN                         сыграть свадьбу  \n",
       "13  130458.228857                 приобретение автомобиля  \n",
       "14  165127.911772              покупка жилой недвижимости  \n",
       "15  116820.904450  строительство собственной недвижимости  \n",
       "16  289202.704229                            недвижимость  \n",
       "17   90410.586745              строительство недвижимости  \n",
       "18   56823.777243      на покупку подержанного автомобиля  \n",
       "19  242831.107982            на покупку своего автомобиля  "
      ]
     },
     "execution_count": 2,
     "metadata": {},
     "output_type": "execute_result"
    }
   ],
   "source": [
    "data.head(20)"
   ]
  },
  {
   "cell_type": "markdown",
   "id": "0ed8f27f",
   "metadata": {
    "deletable": false,
    "editable": false,
    "id": "0ed8f27f"
   },
   "source": [
    "**Задание 3. Выведите основную информацию о датафрейме с помощью метода `info()`.**"
   ]
  },
  {
   "cell_type": "code",
   "execution_count": 3,
   "id": "ab3f863b",
   "metadata": {
    "deletable": false,
    "id": "ab3f863b",
    "outputId": "15376089-8dad-46c9-b520-c05248d43158"
   },
   "outputs": [
    {
     "name": "stdout",
     "output_type": "stream",
     "text": [
      "<class 'pandas.core.frame.DataFrame'>\n",
      "RangeIndex: 21525 entries, 0 to 21524\n",
      "Data columns (total 12 columns):\n",
      " #   Column            Non-Null Count  Dtype  \n",
      "---  ------            --------------  -----  \n",
      " 0   children          21525 non-null  int64  \n",
      " 1   days_employed     19351 non-null  float64\n",
      " 2   dob_years         21525 non-null  int64  \n",
      " 3   education         21525 non-null  object \n",
      " 4   education_id      21525 non-null  int64  \n",
      " 5   family_status     21525 non-null  object \n",
      " 6   family_status_id  21525 non-null  int64  \n",
      " 7   gender            21525 non-null  object \n",
      " 8   income_type       21525 non-null  object \n",
      " 9   debt              21525 non-null  int64  \n",
      " 10  total_income      19351 non-null  float64\n",
      " 11  purpose           21525 non-null  object \n",
      "dtypes: float64(2), int64(5), object(5)\n",
      "memory usage: 2.0+ MB\n"
     ]
    }
   ],
   "source": [
    "data.info()"
   ]
  },
  {
   "cell_type": "markdown",
   "id": "60e3e22d",
   "metadata": {
    "deletable": false,
    "editable": false,
    "id": "60e3e22d"
   },
   "source": [
    "## Предобработка данных"
   ]
  },
  {
   "cell_type": "markdown",
   "id": "03dc170c",
   "metadata": {
    "deletable": false,
    "editable": false,
    "id": "03dc170c"
   },
   "source": [
    "### Удаление пропусков"
   ]
  },
  {
   "cell_type": "markdown",
   "id": "a4f54eef",
   "metadata": {
    "deletable": false,
    "editable": false,
    "id": "a4f54eef"
   },
   "source": [
    "**Задание 4. Выведите количество пропущенных значений для каждого столбца. Используйте комбинацию двух методов.**"
   ]
  },
  {
   "cell_type": "code",
   "execution_count": 4,
   "id": "2dc372b2",
   "metadata": {
    "deletable": false,
    "id": "2dc372b2",
    "outputId": "81f4d817-781c-465c-ed15-91ce4446810d"
   },
   "outputs": [
    {
     "data": {
      "text/plain": [
       "children               0\n",
       "days_employed       2174\n",
       "dob_years              0\n",
       "education              0\n",
       "education_id           0\n",
       "family_status          0\n",
       "family_status_id       0\n",
       "gender                 0\n",
       "income_type            0\n",
       "debt                   0\n",
       "total_income        2174\n",
       "purpose                0\n",
       "dtype: int64"
      ]
     },
     "execution_count": 4,
     "metadata": {},
     "output_type": "execute_result"
    }
   ],
   "source": [
    "data.isna().sum()"
   ]
  },
  {
   "cell_type": "markdown",
   "id": "14f011b1",
   "metadata": {
    "deletable": false,
    "editable": false,
    "id": "14f011b1"
   },
   "source": [
    "**Задание 5. В двух столбцах есть пропущенные значения. Один из них — `days_employed`. Пропуски в этом столбце вы обработаете на следующем этапе. Другой столбец с пропущенными значениями — `total_income` — хранит данные о доходах. На сумму дохода сильнее всего влияет тип занятости, поэтому заполнить пропуски в этом столбце нужно медианным значением по каждому типу из столбца `income_type`. Например, у человека с типом занятости `сотрудник` пропуск в столбце `total_income` должен быть заполнен медианным доходом среди всех записей с тем же типом.**"
   ]
  },
  {
   "cell_type": "code",
   "execution_count": 5,
   "id": "bdabfb6e",
   "metadata": {
    "deletable": false,
    "id": "bdabfb6e"
   },
   "outputs": [],
   "source": [
    "for t in data['income_type'].unique():\n",
    "    data.loc[(data['income_type'] == t) & (data['total_income'].isna()), 'total_income'] = \\\n",
    "    data.loc[(data['income_type'] == t), 'total_income'].median()"
   ]
  },
  {
   "cell_type": "markdown",
   "id": "5be34059",
   "metadata": {
    "deletable": false,
    "editable": false,
    "id": "5be34059"
   },
   "source": [
    "### Обработка аномальных значений"
   ]
  },
  {
   "cell_type": "markdown",
   "id": "a87606cb",
   "metadata": {
    "deletable": false,
    "editable": false,
    "id": "a87606cb"
   },
   "source": [
    "**Задание 6. В данных могут встречаться артефакты (аномалии) — значения, которые не отражают действительность и появились по какой-то ошибке. таким артефактом будет отрицательное количество дней трудового стажа в столбце `days_employed`. Для реальных данных это нормально. Обработайте значения в этом столбце: замените все отрицательные значения положительными с помощью метода `abs()`.**"
   ]
  },
  {
   "cell_type": "code",
   "execution_count": 6,
   "id": "020c46cc",
   "metadata": {
    "deletable": false,
    "id": "020c46cc"
   },
   "outputs": [],
   "source": [
    "data['days_employed'] = data['days_employed'].abs()"
   ]
  },
  {
   "cell_type": "markdown",
   "id": "45538a3a",
   "metadata": {
    "deletable": false,
    "editable": false,
    "id": "45538a3a"
   },
   "source": [
    "**Задание 7. Для каждого типа занятости выведите медианное значение трудового стажа `days_employed` в днях.**"
   ]
  },
  {
   "cell_type": "code",
   "execution_count": 7,
   "id": "cd3e6328",
   "metadata": {
    "deletable": false,
    "id": "cd3e6328",
    "outputId": "801ef80e-522b-4668-f34e-565af7432bcf"
   },
   "outputs": [
    {
     "data": {
      "text/plain": [
       "income_type\n",
       "безработный        366413.652744\n",
       "в декрете            3296.759962\n",
       "госслужащий          2689.368353\n",
       "компаньон            1547.382223\n",
       "пенсионер          365213.306266\n",
       "предприниматель       520.848083\n",
       "сотрудник            1574.202821\n",
       "студент               578.751554\n",
       "Name: days_employed, dtype: float64"
      ]
     },
     "execution_count": 7,
     "metadata": {},
     "output_type": "execute_result"
    }
   ],
   "source": [
    "data.groupby('income_type')['days_employed'].agg('median')"
   ]
  },
  {
   "cell_type": "markdown",
   "id": "90c5f058",
   "metadata": {
    "deletable": false,
    "editable": false,
    "id": "90c5f058"
   },
   "source": [
    "У двух типов (безработные и пенсионеры) получатся аномально большие значения. Исправить такие значения сложно, поэтому оставьте их как есть."
   ]
  },
  {
   "cell_type": "markdown",
   "id": "9652e50d",
   "metadata": {
    "deletable": false,
    "editable": false,
    "id": "9652e50d"
   },
   "source": [
    "**Задание 8. Выведите перечень уникальных значений столбца `children`.**"
   ]
  },
  {
   "cell_type": "code",
   "execution_count": 8,
   "id": "dbb37b8e",
   "metadata": {
    "deletable": false,
    "id": "dbb37b8e",
    "outputId": "6975b15c-7f95-4697-d16d-a0c79b657b03"
   },
   "outputs": [
    {
     "data": {
      "text/plain": [
       "array([ 1,  0,  3,  2, -1,  4, 20,  5])"
      ]
     },
     "execution_count": 8,
     "metadata": {},
     "output_type": "execute_result"
    }
   ],
   "source": [
    "data['children'].unique()"
   ]
  },
  {
   "cell_type": "markdown",
   "id": "2b8b0715",
   "metadata": {
    "deletable": false,
    "editable": false,
    "id": "2b8b0715"
   },
   "source": [
    "**Задание 9. В столбце `children` есть два аномальных значения. Удалите строки, в которых встречаются такие аномальные значения из датафрейма `data`.**"
   ]
  },
  {
   "cell_type": "code",
   "execution_count": 9,
   "id": "20009df8",
   "metadata": {
    "deletable": false,
    "id": "20009df8"
   },
   "outputs": [],
   "source": [
    "data = data[(data['children'] != -1) & (data['children'] != 20)]"
   ]
  },
  {
   "cell_type": "markdown",
   "id": "8c6ac9f1",
   "metadata": {
    "deletable": false,
    "editable": false,
    "id": "8c6ac9f1"
   },
   "source": [
    "**Задание 10. Ещё раз выведите перечень уникальных значений столбца `children`, чтобы убедиться, что артефакты удалены.**"
   ]
  },
  {
   "cell_type": "code",
   "execution_count": 10,
   "id": "07337b81",
   "metadata": {
    "deletable": false,
    "id": "07337b81",
    "outputId": "b2097101-d49d-44d9-901b-32a65c9463d1"
   },
   "outputs": [
    {
     "data": {
      "text/plain": [
       "array([1, 0, 3, 2, 4, 5])"
      ]
     },
     "execution_count": 10,
     "metadata": {},
     "output_type": "execute_result"
    }
   ],
   "source": [
    "data['children'].unique()"
   ]
  },
  {
   "cell_type": "markdown",
   "id": "ee3f52d4",
   "metadata": {
    "deletable": false,
    "editable": false,
    "id": "ee3f52d4"
   },
   "source": [
    "### Удаление пропусков (продолжение)"
   ]
  },
  {
   "cell_type": "markdown",
   "id": "a700b0e4",
   "metadata": {
    "deletable": false,
    "editable": false,
    "id": "a700b0e4"
   },
   "source": [
    "**Задание 11. Заполните пропуски в столбце `days_employed` медианными значениями по каждого типа занятости `income_type`.**"
   ]
  },
  {
   "cell_type": "code",
   "execution_count": 11,
   "id": "61946b83",
   "metadata": {
    "deletable": false,
    "id": "61946b83"
   },
   "outputs": [],
   "source": [
    "for t in data['income_type'].unique():\n",
    "    data.loc[(data['income_type'] == t) & (data['days_employed'].isna()), 'days_employed'] = \\\n",
    "    data.loc[(data['income_type'] == t), 'days_employed'].median()"
   ]
  },
  {
   "cell_type": "markdown",
   "id": "550dcd9b",
   "metadata": {
    "deletable": false,
    "editable": false,
    "id": "550dcd9b"
   },
   "source": [
    "**Задание 12. Убедитесь, что все пропуски заполнены. Проверьте себя и ещё раз выведите количество пропущенных значений для каждого столбца с помощью двух методов.**"
   ]
  },
  {
   "cell_type": "code",
   "execution_count": 12,
   "id": "937c7014",
   "metadata": {
    "deletable": false,
    "id": "937c7014",
    "outputId": "8da1e4e1-358e-4e87-98c9-f261bce0a7b2"
   },
   "outputs": [
    {
     "data": {
      "text/plain": [
       "children            0\n",
       "days_employed       0\n",
       "dob_years           0\n",
       "education           0\n",
       "education_id        0\n",
       "family_status       0\n",
       "family_status_id    0\n",
       "gender              0\n",
       "income_type         0\n",
       "debt                0\n",
       "total_income        0\n",
       "purpose             0\n",
       "dtype: int64"
      ]
     },
     "execution_count": 12,
     "metadata": {},
     "output_type": "execute_result"
    }
   ],
   "source": [
    "data.isna().sum()"
   ]
  },
  {
   "cell_type": "markdown",
   "id": "d522e295",
   "metadata": {
    "deletable": false,
    "editable": false,
    "id": "d522e295"
   },
   "source": [
    "### Изменение типов данных"
   ]
  },
  {
   "cell_type": "markdown",
   "id": "c229c581",
   "metadata": {
    "deletable": false,
    "editable": false,
    "id": "c229c581"
   },
   "source": [
    "**Задание 13. Замените вещественный тип данных в столбце `total_income` на целочисленный с помощью метода `astype()`.**"
   ]
  },
  {
   "cell_type": "code",
   "execution_count": 13,
   "id": "31036462",
   "metadata": {
    "deletable": false,
    "id": "31036462"
   },
   "outputs": [],
   "source": [
    "data['total_income'] = data['total_income'].astype(int)"
   ]
  },
  {
   "cell_type": "markdown",
   "id": "b8e3d1d9",
   "metadata": {
    "deletable": false,
    "editable": false,
    "id": "b8e3d1d9"
   },
   "source": [
    "### Обработка дубликатов"
   ]
  },
  {
   "cell_type": "markdown",
   "id": "9be53c49",
   "metadata": {
    "deletable": false,
    "editable": false,
    "id": "9be53c49"
   },
   "source": [
    "**Задание 14. Обработайте неявные дубликаты в столбце `education`. В этом столбце есть одни и те же значения, но записанные по-разному: с использованием заглавных и строчных букв. Приведите их к нижнему регистру.**"
   ]
  },
  {
   "cell_type": "code",
   "execution_count": 14,
   "id": "d89e73e1",
   "metadata": {
    "deletable": false,
    "id": "d89e73e1"
   },
   "outputs": [],
   "source": [
    "data['education'] = data['education'].str.lower()"
   ]
  },
  {
   "cell_type": "markdown",
   "id": "01d4500e",
   "metadata": {
    "deletable": false,
    "editable": false,
    "id": "01d4500e"
   },
   "source": [
    "**Задание 15. Выведите на экран количество строк-дубликатов в данных. Если такие строки присутствуют, удалите их.**"
   ]
  },
  {
   "cell_type": "code",
   "execution_count": 15,
   "id": "e10efb23",
   "metadata": {
    "deletable": false,
    "id": "e10efb23",
    "outputId": "9684deba-1934-42d1-99e1-cda61740f822"
   },
   "outputs": [
    {
     "data": {
      "text/plain": [
       "71"
      ]
     },
     "execution_count": 15,
     "metadata": {},
     "output_type": "execute_result"
    }
   ],
   "source": [
    "data.duplicated().sum()"
   ]
  },
  {
   "cell_type": "code",
   "execution_count": 16,
   "id": "df853f20",
   "metadata": {
    "deletable": false,
    "id": "df853f20"
   },
   "outputs": [],
   "source": [
    "data = data.drop_duplicates()"
   ]
  },
  {
   "cell_type": "markdown",
   "id": "627be38f",
   "metadata": {
    "deletable": false,
    "editable": false,
    "id": "627be38f"
   },
   "source": [
    "### Категоризация данных"
   ]
  },
  {
   "cell_type": "markdown",
   "id": "4684c3e0",
   "metadata": {
    "deletable": false,
    "editable": false,
    "id": "4684c3e0"
   },
   "source": [
    "**Задание 16. На основании диапазонов, указанных ниже, создайте в датафрейме `data` столбец `total_income_category` с категориями:**\n",
    "\n",
    "- 0–30000 — `'E'`;\n",
    "- 30001–50000 — `'D'`;\n",
    "- 50001–200000 — `'C'`;\n",
    "- 200001–1000000 — `'B'`;\n",
    "- 1000001 и выше — `'A'`.\n",
    "\n",
    "\n",
    "**Например, кредитополучателю с доходом 25000 нужно назначить категорию `'E'`, а клиенту, получающему 235000, — `'B'`. Используйте собственную функцию с именем `categorize_income()` и метод `apply()`.**"
   ]
  },
  {
   "cell_type": "code",
   "execution_count": 17,
   "id": "78965238",
   "metadata": {
    "deletable": false,
    "id": "78965238"
   },
   "outputs": [],
   "source": [
    "def categorize_income(income):\n",
    "    try:\n",
    "        if 0 <= income <= 30000:\n",
    "            return 'E'\n",
    "        elif 30001 <= income <= 50000:\n",
    "            return 'D'\n",
    "        elif 50001 <= income <= 200000:\n",
    "            return 'C'\n",
    "        elif 200001 <= income <= 1000000:\n",
    "            return 'B'\n",
    "        elif income >= 1000001:\n",
    "            return 'A'\n",
    "    except:\n",
    "        pass"
   ]
  },
  {
   "cell_type": "code",
   "execution_count": 18,
   "id": "0980ada1",
   "metadata": {
    "deletable": false,
    "id": "0980ada1"
   },
   "outputs": [],
   "source": [
    "data['total_income_category'] = data['total_income'].apply(categorize_income)"
   ]
  },
  {
   "cell_type": "markdown",
   "id": "9917bba0",
   "metadata": {
    "deletable": false,
    "editable": false,
    "id": "9917bba0"
   },
   "source": [
    "**Задание 17. Выведите на экран перечень уникальных целей взятия кредита из столбца `purpose`.**"
   ]
  },
  {
   "cell_type": "code",
   "execution_count": 19,
   "id": "ee07b65e",
   "metadata": {
    "deletable": false,
    "id": "ee07b65e",
    "outputId": "673c12d9-7d7e-4ae0-9812-c622c89dd244"
   },
   "outputs": [
    {
     "data": {
      "text/plain": [
       "array(['покупка жилья', 'приобретение автомобиля',\n",
       "       'дополнительное образование', 'сыграть свадьбу',\n",
       "       'операции с жильем', 'образование', 'на проведение свадьбы',\n",
       "       'покупка жилья для семьи', 'покупка недвижимости',\n",
       "       'покупка коммерческой недвижимости', 'покупка жилой недвижимости',\n",
       "       'строительство собственной недвижимости', 'недвижимость',\n",
       "       'строительство недвижимости', 'на покупку подержанного автомобиля',\n",
       "       'на покупку своего автомобиля',\n",
       "       'операции с коммерческой недвижимостью',\n",
       "       'строительство жилой недвижимости', 'жилье',\n",
       "       'операции со своей недвижимостью', 'автомобили',\n",
       "       'заняться образованием', 'сделка с подержанным автомобилем',\n",
       "       'получение образования', 'автомобиль', 'свадьба',\n",
       "       'получение дополнительного образования', 'покупка своего жилья',\n",
       "       'операции с недвижимостью', 'получение высшего образования',\n",
       "       'свой автомобиль', 'сделка с автомобилем',\n",
       "       'профильное образование', 'высшее образование',\n",
       "       'покупка жилья для сдачи', 'на покупку автомобиля', 'ремонт жилью',\n",
       "       'заняться высшим образованием'], dtype=object)"
      ]
     },
     "execution_count": 19,
     "metadata": {},
     "output_type": "execute_result"
    }
   ],
   "source": [
    "data['purpose'].unique()"
   ]
  },
  {
   "cell_type": "markdown",
   "id": "52b79d56",
   "metadata": {
    "deletable": false,
    "editable": false,
    "id": "52b79d56"
   },
   "source": [
    "**Задание 18. Создайте функцию, которая на основании данных из столбца `purpose` сформирует новый столбец `purpose_category`, в который войдут следующие категории:**\n",
    "\n",
    "- `'операции с автомобилем'`,\n",
    "- `'операции с недвижимостью'`,\n",
    "- `'проведение свадьбы'`,\n",
    "- `'получение образования'`.\n",
    "\n",
    "**Например, если в столбце `purpose` находится подстрока `'на покупку автомобиля'`, то в столбце `purpose_category` должна появиться строка `'операции с автомобилем'`.**\n",
    "\n",
    "**Используйте собственную функцию с именем `categorize_purpose()` и метод `apply()`. Изучите данные в столбце `purpose` и определите, какие подстроки помогут вам правильно определить категорию.**"
   ]
  },
  {
   "cell_type": "code",
   "execution_count": 20,
   "id": "be41da5d",
   "metadata": {
    "deletable": false,
    "id": "be41da5d"
   },
   "outputs": [],
   "source": [
    "def categorize_purpose(row):\n",
    "    try:\n",
    "        if 'автом' in row:\n",
    "            return 'операции с автомобилем'\n",
    "        elif 'жил' in row or 'недвиж' in row:\n",
    "            return 'операции с недвижимостью'\n",
    "        elif 'свад' in row:\n",
    "            return 'проведение свадьбы'\n",
    "        elif 'образов' in row:\n",
    "            return 'получение образования'\n",
    "    except:\n",
    "        return 'нет категории'"
   ]
  },
  {
   "cell_type": "code",
   "execution_count": 21,
   "id": "94c4a19a",
   "metadata": {
    "deletable": false,
    "id": "94c4a19a"
   },
   "outputs": [],
   "source": [
    "data['purpose_category'] = data['purpose'].apply(categorize_purpose)"
   ]
  },
  {
   "cell_type": "markdown",
   "id": "3d596c34",
   "metadata": {
    "deletable": false,
    "editable": false,
    "id": "3d596c34"
   },
   "source": [
    "### Шаг 3. Исследуйте данные и ответьте на вопросы"
   ]
  },
  {
   "cell_type": "markdown",
   "id": "648db036",
   "metadata": {
    "deletable": false,
    "editable": false,
    "id": "648db036"
   },
   "source": [
    "#### 3.1 Есть ли зависимость между количеством детей и возвратом кредита в срок?"
   ]
  },
  {
   "cell_type": "code",
   "execution_count": 22,
   "id": "7fcff25e",
   "metadata": {
    "deletable": false,
    "id": "7fcff25e"
   },
   "outputs": [
    {
     "data": {
      "text/html": [
       "<div>\n",
       "<style scoped>\n",
       "    .dataframe tbody tr th:only-of-type {\n",
       "        vertical-align: middle;\n",
       "    }\n",
       "\n",
       "    .dataframe tbody tr th {\n",
       "        vertical-align: top;\n",
       "    }\n",
       "\n",
       "    .dataframe thead th {\n",
       "        text-align: right;\n",
       "    }\n",
       "</style>\n",
       "<table border=\"1\" class=\"dataframe\">\n",
       "  <thead>\n",
       "    <tr style=\"text-align: right;\">\n",
       "      <th></th>\n",
       "      <th>count</th>\n",
       "      <th>sum</th>\n",
       "      <th>ratio</th>\n",
       "    </tr>\n",
       "    <tr>\n",
       "      <th>children</th>\n",
       "      <th></th>\n",
       "      <th></th>\n",
       "      <th></th>\n",
       "    </tr>\n",
       "  </thead>\n",
       "  <tbody>\n",
       "    <tr>\n",
       "      <th>4</th>\n",
       "      <td>41</td>\n",
       "      <td>4</td>\n",
       "      <td>0.097561</td>\n",
       "    </tr>\n",
       "    <tr>\n",
       "      <th>2</th>\n",
       "      <td>2052</td>\n",
       "      <td>194</td>\n",
       "      <td>0.094542</td>\n",
       "    </tr>\n",
       "    <tr>\n",
       "      <th>1</th>\n",
       "      <td>4808</td>\n",
       "      <td>444</td>\n",
       "      <td>0.092346</td>\n",
       "    </tr>\n",
       "    <tr>\n",
       "      <th>3</th>\n",
       "      <td>330</td>\n",
       "      <td>27</td>\n",
       "      <td>0.081818</td>\n",
       "    </tr>\n",
       "    <tr>\n",
       "      <th>0</th>\n",
       "      <td>14091</td>\n",
       "      <td>1063</td>\n",
       "      <td>0.075438</td>\n",
       "    </tr>\n",
       "    <tr>\n",
       "      <th>5</th>\n",
       "      <td>9</td>\n",
       "      <td>0</td>\n",
       "      <td>0.000000</td>\n",
       "    </tr>\n",
       "  </tbody>\n",
       "</table>\n",
       "</div>"
      ],
      "text/plain": [
       "          count   sum     ratio\n",
       "children                       \n",
       "4            41     4  0.097561\n",
       "2          2052   194  0.094542\n",
       "1          4808   444  0.092346\n",
       "3           330    27  0.081818\n",
       "0         14091  1063  0.075438\n",
       "5             9     0  0.000000"
      ]
     },
     "metadata": {},
     "output_type": "display_data"
    },
    {
     "data": {
      "image/png": "[encoded data removed]",
      "text/plain": [
       "<Figure size 432x288 with 1 Axes>"
      ]
     },
     "metadata": {
      "needs_background": "light"
     },
     "output_type": "display_data"
    }
   ],
   "source": [
    "import seaborn\n",
    "data_pivot = data.pivot_table(index = ['children'], values = 'debt', aggfunc = {'count', 'sum'})\n",
    "data_pivot['ratio'] = data_pivot['sum'] / data_pivot['count']\n",
    "data_pivot = data_pivot.sort_values(by = 'ratio', ascending = False)\n",
    "display(data_pivot)\n",
    "seaborn.barplot(x = data_pivot.index, \\\n",
    "                 y = data_pivot['ratio']).set(xlabel='Количество детей', \\\n",
    "                                              ylabel='Коэффициент задолженности',\\\n",
    "                                              title='Коэффициент просрочек в зависимости от количества детей');"
   ]
  },
  {
   "cell_type": "code",
   "execution_count": 23,
   "id": "071b2180",
   "metadata": {},
   "outputs": [
    {
     "data": {
      "text/html": [
       "<div>\n",
       "<style scoped>\n",
       "    .dataframe tbody tr th:only-of-type {\n",
       "        vertical-align: middle;\n",
       "    }\n",
       "\n",
       "    .dataframe tbody tr th {\n",
       "        vertical-align: top;\n",
       "    }\n",
       "\n",
       "    .dataframe thead th {\n",
       "        text-align: right;\n",
       "    }\n",
       "</style>\n",
       "<table border=\"1\" class=\"dataframe\">\n",
       "  <thead>\n",
       "    <tr style=\"text-align: right;\">\n",
       "      <th></th>\n",
       "      <th>children</th>\n",
       "      <th>count</th>\n",
       "      <th>sum</th>\n",
       "      <th>mean</th>\n",
       "    </tr>\n",
       "  </thead>\n",
       "  <tbody>\n",
       "    <tr>\n",
       "      <th>0</th>\n",
       "      <td>0</td>\n",
       "      <td>14091.0</td>\n",
       "      <td>1063.0</td>\n",
       "      <td>0.075438</td>\n",
       "    </tr>\n",
       "    <tr>\n",
       "      <th>1</th>\n",
       "      <td>1</td>\n",
       "      <td>4808.0</td>\n",
       "      <td>444.0</td>\n",
       "      <td>0.092346</td>\n",
       "    </tr>\n",
       "    <tr>\n",
       "      <th>2</th>\n",
       "      <td>2</td>\n",
       "      <td>2052.0</td>\n",
       "      <td>194.0</td>\n",
       "      <td>0.094542</td>\n",
       "    </tr>\n",
       "    <tr>\n",
       "      <th>3</th>\n",
       "      <td>3</td>\n",
       "      <td>330.0</td>\n",
       "      <td>27.0</td>\n",
       "      <td>0.081818</td>\n",
       "    </tr>\n",
       "    <tr>\n",
       "      <th>4</th>\n",
       "      <td>4</td>\n",
       "      <td>41.0</td>\n",
       "      <td>4.0</td>\n",
       "      <td>0.097561</td>\n",
       "    </tr>\n",
       "    <tr>\n",
       "      <th>5</th>\n",
       "      <td>5</td>\n",
       "      <td>9.0</td>\n",
       "      <td>0.0</td>\n",
       "      <td>0.000000</td>\n",
       "    </tr>\n",
       "  </tbody>\n",
       "</table>\n",
       "</div>"
      ],
      "text/plain": [
       "   children    count     sum      mean\n",
       "0         0  14091.0  1063.0  0.075438\n",
       "1         1   4808.0   444.0  0.092346\n",
       "2         2   2052.0   194.0  0.094542\n",
       "3         3    330.0    27.0  0.081818\n",
       "4         4     41.0     4.0  0.097561\n",
       "5         5      9.0     0.0  0.000000"
      ]
     },
     "execution_count": 23,
     "metadata": {},
     "output_type": "execute_result"
    }
   ],
   "source": [
    "##Комментарий ревьюера\n",
    "\n",
    "data_children = data.pivot_table(index = ['children'], values = 'debt', aggfunc = {'count', 'sum', 'mean'})\n",
    "data_children = data_children[['count', 'sum', 'mean']].reset_index()\n",
    "data_children "
   ]
  },
  {
   "cell_type": "markdown",
   "id": "2eb9088e",
   "metadata": {
    "deletable": false,
    "id": "2eb9088e"
   },
   "source": [
    "**Вывод:** Прослеживается незначительная зависимость количества детей и неоплаченных кредитов. Выборка по категориям людей с количеством детей от 3 до 5 не репрезентативна и её нельзя учитывать. В связи с исключениям указанных данных можно сделать вывод, что люди с детьми менее охотно отдают кредиты. В случае наличия одного ребенка доля должников  составляет 9,2%, хуже обстоит дело с должниками, кто имеет двух детей, здесь доля невозврата составляет 9,4%. Заёмщики без детей имеют наименьший процент невозврата денежных средств - 7,5%."
   ]
  },
  {
   "cell_type": "markdown",
   "id": "74c9b3a7",
   "metadata": {
    "deletable": false,
    "editable": false,
    "id": "74c9b3a7"
   },
   "source": [
    "#### 3.2 Есть ли зависимость между семейным положением и возвратом кредита в срок?"
   ]
  },
  {
   "cell_type": "code",
   "execution_count": 24,
   "id": "8098ab3b",
   "metadata": {
    "deletable": false,
    "id": "8098ab3b"
   },
   "outputs": [
    {
     "data": {
      "text/html": [
       "<div>\n",
       "<style scoped>\n",
       "    .dataframe tbody tr th:only-of-type {\n",
       "        vertical-align: middle;\n",
       "    }\n",
       "\n",
       "    .dataframe tbody tr th {\n",
       "        vertical-align: top;\n",
       "    }\n",
       "\n",
       "    .dataframe thead th {\n",
       "        text-align: right;\n",
       "    }\n",
       "</style>\n",
       "<table border=\"1\" class=\"dataframe\">\n",
       "  <thead>\n",
       "    <tr style=\"text-align: right;\">\n",
       "      <th></th>\n",
       "      <th>count</th>\n",
       "      <th>sum</th>\n",
       "      <th>ratio</th>\n",
       "    </tr>\n",
       "    <tr>\n",
       "      <th>family_status</th>\n",
       "      <th></th>\n",
       "      <th></th>\n",
       "      <th></th>\n",
       "    </tr>\n",
       "  </thead>\n",
       "  <tbody>\n",
       "    <tr>\n",
       "      <th>Не женат / не замужем</th>\n",
       "      <td>2796</td>\n",
       "      <td>273</td>\n",
       "      <td>0.097639</td>\n",
       "    </tr>\n",
       "    <tr>\n",
       "      <th>гражданский брак</th>\n",
       "      <td>4134</td>\n",
       "      <td>385</td>\n",
       "      <td>0.093130</td>\n",
       "    </tr>\n",
       "    <tr>\n",
       "      <th>женат / замужем</th>\n",
       "      <td>12261</td>\n",
       "      <td>927</td>\n",
       "      <td>0.075606</td>\n",
       "    </tr>\n",
       "    <tr>\n",
       "      <th>в разводе</th>\n",
       "      <td>1189</td>\n",
       "      <td>84</td>\n",
       "      <td>0.070648</td>\n",
       "    </tr>\n",
       "    <tr>\n",
       "      <th>вдовец / вдова</th>\n",
       "      <td>951</td>\n",
       "      <td>63</td>\n",
       "      <td>0.066246</td>\n",
       "    </tr>\n",
       "  </tbody>\n",
       "</table>\n",
       "</div>"
      ],
      "text/plain": [
       "                       count  sum     ratio\n",
       "family_status                              \n",
       "Не женат / не замужем   2796  273  0.097639\n",
       "гражданский брак        4134  385  0.093130\n",
       "женат / замужем        12261  927  0.075606\n",
       "в разводе               1189   84  0.070648\n",
       "вдовец / вдова           951   63  0.066246"
      ]
     },
     "metadata": {},
     "output_type": "display_data"
    },
    {
     "data": {
      "image/png": "[encoded data removed]",
      "text/plain": [
       "<Figure size 432x288 with 1 Axes>"
      ]
     },
     "metadata": {
      "needs_background": "light"
     },
     "output_type": "display_data"
    }
   ],
   "source": [
    "data_pivot_fam = data.pivot_table(index = ['family_status'], values = 'debt', aggfunc = {'count', 'sum'})\n",
    "data_pivot_fam['ratio'] = data_pivot_fam['sum'] / data_pivot_fam['count']\n",
    "data_pivot_fam = data_pivot_fam.sort_values(by = 'ratio', ascending = False)\n",
    "display(data_pivot_fam)\n",
    "table = seaborn.barplot(x = data_pivot_fam.index, y = data_pivot_fam['ratio'])\n",
    "table.set_xticklabels(table.get_xticklabels(),rotation = 30);"
   ]
  },
  {
   "cell_type": "markdown",
   "id": "c389ca63",
   "metadata": {
    "deletable": false,
    "id": "c389ca63"
   },
   "source": [
    "**Вывод:**  Люди в браке лучше всего отдают кредиты, доля должников здесь составляет с 7,5%. Пары проживающие в гражданском браке или люди, которые никогда не состояли в браке являются самыми неблагонадёжными заёмщиками. Процент просрочек по данным категориям составляет 9,3% и 9.7% соответственно.\n",
    "Прослеживается зависимость между личной жизнью и степенью возврата заёмных средств. Женатые люди имеют большее постоянство, возможно на это влияет также возраст заёмщика, уровень их доходов как семьи. Остальные категории некорректно сравнивать, так как представленная выборка покажет недостоверные результаты в связи с большой разницей в данных."
   ]
  },
  {
   "cell_type": "markdown",
   "id": "9529de68",
   "metadata": {
    "deletable": false,
    "editable": false,
    "id": "9529de68"
   },
   "source": [
    "#### 3.3 Есть ли зависимость между уровнем дохода и возвратом кредита в срок?"
   ]
  },
  {
   "cell_type": "code",
   "execution_count": 25,
   "id": "8787f44a",
   "metadata": {
    "deletable": false,
    "id": "8787f44a"
   },
   "outputs": [
    {
     "data": {
      "text/html": [
       "<div>\n",
       "<style scoped>\n",
       "    .dataframe tbody tr th:only-of-type {\n",
       "        vertical-align: middle;\n",
       "    }\n",
       "\n",
       "    .dataframe tbody tr th {\n",
       "        vertical-align: top;\n",
       "    }\n",
       "\n",
       "    .dataframe thead th {\n",
       "        text-align: right;\n",
       "    }\n",
       "</style>\n",
       "<table border=\"1\" class=\"dataframe\">\n",
       "  <thead>\n",
       "    <tr style=\"text-align: right;\">\n",
       "      <th></th>\n",
       "      <th>count</th>\n",
       "      <th>sum</th>\n",
       "      <th>ratio</th>\n",
       "    </tr>\n",
       "    <tr>\n",
       "      <th>total_income_category</th>\n",
       "      <th></th>\n",
       "      <th></th>\n",
       "      <th></th>\n",
       "    </tr>\n",
       "  </thead>\n",
       "  <tbody>\n",
       "    <tr>\n",
       "      <th>E</th>\n",
       "      <td>22</td>\n",
       "      <td>2</td>\n",
       "      <td>0.090909</td>\n",
       "    </tr>\n",
       "    <tr>\n",
       "      <th>C</th>\n",
       "      <td>15921</td>\n",
       "      <td>1353</td>\n",
       "      <td>0.084982</td>\n",
       "    </tr>\n",
       "    <tr>\n",
       "      <th>A</th>\n",
       "      <td>25</td>\n",
       "      <td>2</td>\n",
       "      <td>0.080000</td>\n",
       "    </tr>\n",
       "    <tr>\n",
       "      <th>B</th>\n",
       "      <td>5014</td>\n",
       "      <td>354</td>\n",
       "      <td>0.070602</td>\n",
       "    </tr>\n",
       "    <tr>\n",
       "      <th>D</th>\n",
       "      <td>349</td>\n",
       "      <td>21</td>\n",
       "      <td>0.060172</td>\n",
       "    </tr>\n",
       "  </tbody>\n",
       "</table>\n",
       "</div>"
      ],
      "text/plain": [
       "                       count   sum     ratio\n",
       "total_income_category                       \n",
       "E                         22     2  0.090909\n",
       "C                      15921  1353  0.084982\n",
       "A                         25     2  0.080000\n",
       "B                       5014   354  0.070602\n",
       "D                        349    21  0.060172"
      ]
     },
     "metadata": {},
     "output_type": "display_data"
    },
    {
     "data": {
      "image/png": "[encoded data removed]",
      "text/plain": [
       "<Figure size 432x288 with 1 Axes>"
      ]
     },
     "metadata": {
      "needs_background": "light"
     },
     "output_type": "display_data"
    }
   ],
   "source": [
    "data_pivot_income = data.pivot_table(index = ['total_income_category'], values = 'debt', aggfunc = {'count', 'sum'})\n",
    "data_pivot_income['ratio'] = data_pivot_income['sum'] / data_pivot_income['count']\n",
    "data_pivot_income = data_pivot_income.sort_values(by = 'ratio', ascending = False)\n",
    "display(data_pivot_income)\n",
    "seaborn.barplot(x = data_pivot_income.index, \\\n",
    "                y = data_pivot_income['ratio']).set(xlabel='Уровень дохода', \\\n",
    "                                                     ylabel='Коэффициент задолженности',\\\n",
    "                                                     title='Коэффициент просрочек в зависимости от дохода');"
   ]
  },
  {
   "cell_type": "markdown",
   "id": "6dd14b57",
   "metadata": {
    "deletable": false,
    "id": "6dd14b57"
   },
   "source": [
    "**Вывод:** Взяв во внимание несбалансированность выборки и исключив категории E,A и D можно сделать вывод, что самыми надёжными заёмщиками являются люди с доходом от 200 тысяч до 1 миллиона. Финансовые возможности данной категории лиц позволяют им платить вовремя. В тоже время они допускают просрочки скорее по невнимательности или по форс-мажорным обстоятельствам. Просроченные платежи составляют 7%. В свою очередь, согласно представленным данным менее обеспеченная категория лиц с доходом уровня C (от 50 000 до 200 000) имеет наивысший процент просроченных платежей в размере 8,5%. "
   ]
  },
  {
   "cell_type": "markdown",
   "id": "1dcc9b12",
   "metadata": {
    "deletable": false,
    "editable": false,
    "id": "1dcc9b12"
   },
   "source": [
    "#### 3.4 Как разные цели кредита влияют на его возврат в срок?"
   ]
  },
  {
   "cell_type": "code",
   "execution_count": 26,
   "id": "c602bc8b",
   "metadata": {
    "deletable": false,
    "id": "c602bc8b"
   },
   "outputs": [
    {
     "data": {
      "text/html": [
       "<div>\n",
       "<style scoped>\n",
       "    .dataframe tbody tr th:only-of-type {\n",
       "        vertical-align: middle;\n",
       "    }\n",
       "\n",
       "    .dataframe tbody tr th {\n",
       "        vertical-align: top;\n",
       "    }\n",
       "\n",
       "    .dataframe thead th {\n",
       "        text-align: right;\n",
       "    }\n",
       "</style>\n",
       "<table border=\"1\" class=\"dataframe\">\n",
       "  <thead>\n",
       "    <tr style=\"text-align: right;\">\n",
       "      <th></th>\n",
       "      <th>count</th>\n",
       "      <th>sum</th>\n",
       "      <th>ratio</th>\n",
       "    </tr>\n",
       "    <tr>\n",
       "      <th>purpose_category</th>\n",
       "      <th></th>\n",
       "      <th></th>\n",
       "      <th></th>\n",
       "    </tr>\n",
       "  </thead>\n",
       "  <tbody>\n",
       "    <tr>\n",
       "      <th>операции с автомобилем</th>\n",
       "      <td>4279</td>\n",
       "      <td>400</td>\n",
       "      <td>0.093480</td>\n",
       "    </tr>\n",
       "    <tr>\n",
       "      <th>получение образования</th>\n",
       "      <td>3988</td>\n",
       "      <td>369</td>\n",
       "      <td>0.092528</td>\n",
       "    </tr>\n",
       "    <tr>\n",
       "      <th>проведение свадьбы</th>\n",
       "      <td>2313</td>\n",
       "      <td>183</td>\n",
       "      <td>0.079118</td>\n",
       "    </tr>\n",
       "    <tr>\n",
       "      <th>операции с недвижимостью</th>\n",
       "      <td>10751</td>\n",
       "      <td>780</td>\n",
       "      <td>0.072551</td>\n",
       "    </tr>\n",
       "  </tbody>\n",
       "</table>\n",
       "</div>"
      ],
      "text/plain": [
       "                          count  sum     ratio\n",
       "purpose_category                              \n",
       "операции с автомобилем     4279  400  0.093480\n",
       "получение образования      3988  369  0.092528\n",
       "проведение свадьбы         2313  183  0.079118\n",
       "операции с недвижимостью  10751  780  0.072551"
      ]
     },
     "metadata": {},
     "output_type": "display_data"
    },
    {
     "data": {
      "image/png": "[encoded data removed]",
      "text/plain": [
       "<Figure size 432x288 with 1 Axes>"
      ]
     },
     "metadata": {
      "needs_background": "light"
     },
     "output_type": "display_data"
    }
   ],
   "source": [
    "data_pivot_purpose = data.pivot_table(index = ['purpose_category'], values = 'debt', aggfunc = {'count', 'sum'})\n",
    "data_pivot_purpose['ratio'] = data_pivot_purpose['sum'] / data_pivot_purpose['count']\n",
    "data_pivot_purpose = data_pivot_purpose.sort_values(by = 'ratio', ascending = False)\n",
    "display(data_pivot_purpose)\n",
    "tabel_purpose = seaborn.barplot(x = data_pivot_purpose.index, y = data_pivot_purpose['ratio'])\n",
    "tabel_purpose.set_xticklabels(tabel_purpose.get_xticklabels(),rotation = 30);"
   ]
  },
  {
   "cell_type": "markdown",
   "id": "cf05ed63",
   "metadata": {
    "deletable": false,
    "id": "cf05ed63"
   },
   "source": [
    "**Вывод:** Люди, которые берут ипотеку допускают меньше просрочек. Это связано с тем, что кредит долгосрочный и сумма кредита в разы превышает уровень дохода. В таком случае возникновение просрочек сильно увчеличит сумму кредитования и платежи.\n",
    "Покупка автотранспорта или получение образование несёт в себе дополнительные риски. В случае автомобиля это могут быть непредвиденные расходы на его содержание или же попадание в ДТП. Также можно отнести получение образование - нехватка времени, отчисление из образовательной организации или же другие причины, которые влияют на мотивацию по возврату кредитных средств. "
   ]
  },
  {
   "cell_type": "markdown",
   "id": "46c1f10b",
   "metadata": {
    "deletable": false,
    "editable": false,
    "id": "46c1f10b"
   },
   "source": [
    "#### 3.5 Приведите возможные причины появления пропусков в исходных данных."
   ]
  },
  {
   "cell_type": "markdown",
   "id": "3697d2a9",
   "metadata": {
    "deletable": false,
    "id": "3697d2a9"
   },
   "source": [
    "*Ответ:* В исходных данных были обнаружены пропуски в столбцах 'total_income' и 'days_employed'. Причина пропусков в данных может заключаться в некорректном заполнении анкеты или же человек сам не захотел предоставлять данную информацию. Так как количество пропусков в указанных колонках совпадает, то возможна гипотеза о связи между рабочим стажем и доходом. Например, без указания одного параметра, второй нельзя указать или также не указывается. В других колонках отсутствуют пропуски, следовательно некорректная выгрузка данных не может стать причиной пропусков."
   ]
  },
  {
   "cell_type": "markdown",
   "id": "3137d257",
   "metadata": {
    "deletable": false,
    "editable": false,
    "id": "3137d257"
   },
   "source": [
    "#### 3.6 Объясните, почему заполнить пропуски медианным значением — лучшее решение для количественных переменных."
   ]
  },
  {
   "cell_type": "markdown",
   "id": "cf40012a",
   "metadata": {
    "deletable": false,
    "id": "cf40012a"
   },
   "source": [
    "*Ответ:* Медианное значение подходит лучше чем среднее значение в случае наличия пропусков данных. Так как среднее арифметическое значение будет некорректно посчитано в связи с рабросом данных."
   ]
  },
  {
   "cell_type": "markdown",
   "id": "57bc304e",
   "metadata": {
    "deletable": false,
    "editable": false,
    "id": "57bc304e"
   },
   "source": [
    "### Шаг 4: общий вывод."
   ]
  },
  {
   "cell_type": "markdown",
   "id": "1ab75d1c",
   "metadata": {
    "deletable": false,
    "id": "1ab75d1c"
   },
   "source": [
    "# В ходе проделанной работы можно сделать следующие выводы:\n",
    "\n",
    "Прослеживаются зависимости между количеством детей, семейным положением, финансовым состоянием клиента и целями кредита. Люди с детьми менее охотно отдают кредиты. В случае наличия одного ребенка доля должников составляет 9,2%, хуже обстоит дело с должниками, кто имеет двух детей, здесь доля невозврата составляет 9,4%. Заёмщики без детей имеют наименьший процент невозврата денежных средств - 7,5%\n",
    "\n",
    "Люди в браке лучше всего отдают кредиты, доля должников здесь составляет с 7,5%. Пары проживающие в гражданском браке или люди, которые никогда не состояли в браке являются самыми неблагонадёжными заёмщиками. Процент просрочек по данным категориям составляет 9,3% и 9.7% соответственно.\n",
    "\n",
    "Клиенты с доходом от 200 тысяч до 1 миллиона, финансовые возможности которых позволяют им платить вовремя, имеют наименьший процент просроченных платежей. Неоплата в срок наблюдается у 7% заёмщиков. В свою очередь, согласно представленным данным менее обеспеченная категория лиц с доходом уровня C (от 50 000 до 200 000) имеет наивысший процент просроченных платежей в размере 8,5%.\n",
    "\n",
    "Заёмщики с основной целью ипотечного кредитования стараются не допускать просрочек по обязательствам. Кореляция количества ипотечных кредитов и неоплатой кредитных обязательств в 0.072551 (7,2%) показывает наибольшую возвратность средств. Это связано с тем, что кредит долгосрочный и сумма кредита в разы превышает уровень дохода. В таком случае возникновение просрочек сильно увеличит сумму кредитования и платежи. Покупка автотранспорта или получение образование, как и кредитование не небольшие суммы несут в себе дополнительные риски. Так в случае покупки автомобиля 9,3% заёмщиков допускают неоплату обязательств, что существенно сказывается на банке.\n",
    "\n",
    "В случае кредитования физических лиц особое внимание следует уделить семьям с детьми или не женатым, которые планируют покупку автомобиля так как они несут наибольшие риски по невозврату заёмных средств.\n",
    "\n",
    "# Рекомендации для банка:\n",
    "\n",
    "1. Необходимо скорректировать анкету на кредитование с обязательным указанием дохода и рабочего стажа для дальнейшего исключения пропуска данных, так как эти два пункта являются важнейшим основанием для возможности рассмотрения кредитной заявки.\n",
    "2. Добавить в кредитную заявку возраст заёмщика, это поможет скорректировать сумму и срок кредита, что в свою очередь улучшит процесс скоринга и повысит возвратность кредитных средств.\n",
    "3. Исключить возможность подачи заявки в случае наличия отрицательных или ложных значений, как это было в предоставленных данных с трудовым стажем и количеством детей заёмщиков.\n",
    "4. Перевести данные о трудовом стаже в месяцы или годы для удобства клиентов. Многие клиенты не знают сколько они проработали в днях за свою трудовую карьеру. Так в представленных данных стаж указан в днях с тысячными и милионными значениями после запятой (0,000001). Альтернативный вариант - сохранить стаж в днях в формате целых чисел с автоматическим подсчётом и переводом  из указанного заёмщиком годового формата."
   ]
  }
 ],
 "metadata": {
  "ExecuteTimeLog": [
   {
    "duration": 779,
    "start_time": "2023-03-05T20:42:43.948Z"
   },
   {
    "duration": 22,
    "start_time": "2023-03-05T20:42:44.737Z"
   },
   {
    "duration": 14,
    "start_time": "2023-03-05T20:42:44.761Z"
   },
   {
    "duration": 10,
    "start_time": "2023-03-05T20:42:44.777Z"
   },
   {
    "duration": 53,
    "start_time": "2023-03-05T20:42:44.789Z"
   },
   {
    "duration": 3,
    "start_time": "2023-03-05T20:42:44.844Z"
   },
   {
    "duration": 13,
    "start_time": "2023-03-05T20:42:44.849Z"
   },
   {
    "duration": 5,
    "start_time": "2023-03-05T20:42:44.863Z"
   },
   {
    "duration": 25,
    "start_time": "2023-03-05T20:42:44.870Z"
   },
   {
    "duration": 51,
    "start_time": "2023-03-05T20:42:44.898Z"
   },
   {
    "duration": 35,
    "start_time": "2023-03-05T20:42:44.951Z"
   },
   {
    "duration": 18,
    "start_time": "2023-03-05T20:42:44.987Z"
   },
   {
    "duration": 41,
    "start_time": "2023-03-05T20:42:45.006Z"
   },
   {
    "duration": 14,
    "start_time": "2023-03-05T20:42:45.048Z"
   },
   {
    "duration": 34,
    "start_time": "2023-03-05T20:42:45.063Z"
   },
   {
    "duration": 29,
    "start_time": "2023-03-05T20:42:45.105Z"
   },
   {
    "duration": 4,
    "start_time": "2023-03-05T20:42:45.139Z"
   },
   {
    "duration": 10,
    "start_time": "2023-03-05T20:42:45.145Z"
   },
   {
    "duration": 5,
    "start_time": "2023-03-05T20:42:45.157Z"
   },
   {
    "duration": 5,
    "start_time": "2023-03-05T20:42:45.163Z"
   },
   {
    "duration": 10,
    "start_time": "2023-03-05T20:42:45.170Z"
   },
   {
    "duration": 44,
    "start_time": "2023-03-05T20:42:45.182Z"
   },
   {
    "duration": 15,
    "start_time": "2023-03-05T20:42:45.229Z"
   },
   {
    "duration": 5,
    "start_time": "2023-03-05T20:42:45.245Z"
   },
   {
    "duration": 5,
    "start_time": "2023-03-05T20:42:45.252Z"
   },
   {
    "duration": 1201,
    "start_time": "2023-03-05T22:54:34.674Z"
   },
   {
    "duration": 671,
    "start_time": "2023-03-05T22:57:06.973Z"
   },
   {
    "duration": 21,
    "start_time": "2023-03-05T22:57:07.646Z"
   },
   {
    "duration": 13,
    "start_time": "2023-03-05T22:57:07.669Z"
   },
   {
    "duration": 26,
    "start_time": "2023-03-05T22:57:07.683Z"
   },
   {
    "duration": 47,
    "start_time": "2023-03-05T22:57:07.717Z"
   },
   {
    "duration": 5,
    "start_time": "2023-03-05T22:57:07.766Z"
   },
   {
    "duration": 14,
    "start_time": "2023-03-05T22:57:07.773Z"
   },
   {
    "duration": 9,
    "start_time": "2023-03-05T22:57:07.789Z"
   },
   {
    "duration": 37,
    "start_time": "2023-03-05T22:57:07.806Z"
   },
   {
    "duration": 8,
    "start_time": "2023-03-05T22:57:07.848Z"
   },
   {
    "duration": 50,
    "start_time": "2023-03-05T22:57:07.858Z"
   },
   {
    "duration": 15,
    "start_time": "2023-03-05T22:57:07.911Z"
   },
   {
    "duration": 6,
    "start_time": "2023-03-05T22:57:07.928Z"
   },
   {
    "duration": 11,
    "start_time": "2023-03-05T22:57:07.936Z"
   },
   {
    "duration": 17,
    "start_time": "2023-03-05T22:57:07.949Z"
   },
   {
    "duration": 48,
    "start_time": "2023-03-05T22:57:07.967Z"
   },
   {
    "duration": 4,
    "start_time": "2023-03-05T22:57:08.017Z"
   },
   {
    "duration": 14,
    "start_time": "2023-03-05T22:57:08.024Z"
   },
   {
    "duration": 5,
    "start_time": "2023-03-05T22:57:08.040Z"
   },
   {
    "duration": 3,
    "start_time": "2023-03-05T22:57:08.046Z"
   },
   {
    "duration": 10,
    "start_time": "2023-03-05T22:57:08.050Z"
   },
   {
    "duration": 897,
    "start_time": "2023-03-05T22:57:08.062Z"
   },
   {
    "duration": 0,
    "start_time": "2023-03-05T22:57:08.961Z"
   },
   {
    "duration": 0,
    "start_time": "2023-03-05T22:57:08.963Z"
   },
   {
    "duration": 0,
    "start_time": "2023-03-05T22:57:08.964Z"
   },
   {
    "duration": 10,
    "start_time": "2023-03-05T22:57:21.219Z"
   },
   {
    "duration": 9,
    "start_time": "2023-03-05T22:57:39.053Z"
   },
   {
    "duration": 19,
    "start_time": "2023-03-05T23:05:43.512Z"
   },
   {
    "duration": 70,
    "start_time": "2023-03-05T23:08:27.071Z"
   },
   {
    "duration": 988,
    "start_time": "2023-03-05T23:08:35.202Z"
   },
   {
    "duration": 133,
    "start_time": "2023-03-05T23:12:06.528Z"
   },
   {
    "duration": 148,
    "start_time": "2023-03-05T23:13:26.675Z"
   },
   {
    "duration": 21,
    "start_time": "2023-03-05T23:13:38.024Z"
   },
   {
    "duration": 151,
    "start_time": "2023-03-05T23:13:54.829Z"
   },
   {
    "duration": 26,
    "start_time": "2023-03-05T23:22:26.944Z"
   },
   {
    "duration": 152,
    "start_time": "2023-03-05T23:23:09.553Z"
   },
   {
    "duration": 212,
    "start_time": "2023-03-05T23:31:08.333Z"
   },
   {
    "duration": 206,
    "start_time": "2023-03-05T23:31:51.911Z"
   },
   {
    "duration": 16,
    "start_time": "2023-03-05T23:36:55.971Z"
   },
   {
    "duration": 18,
    "start_time": "2023-03-05T23:37:21.079Z"
   },
   {
    "duration": 22,
    "start_time": "2023-03-05T23:37:51.084Z"
   },
   {
    "duration": 121,
    "start_time": "2023-03-05T23:39:49.154Z"
   },
   {
    "duration": 155,
    "start_time": "2023-03-05T23:40:22.625Z"
   },
   {
    "duration": 143,
    "start_time": "2023-03-05T23:48:10.411Z"
   },
   {
    "duration": 205,
    "start_time": "2023-03-05T23:48:59.325Z"
   },
   {
    "duration": 169,
    "start_time": "2023-03-05T23:49:12.906Z"
   },
   {
    "duration": 183,
    "start_time": "2023-03-05T23:49:33.760Z"
   },
   {
    "duration": 162,
    "start_time": "2023-03-05T23:49:42.836Z"
   },
   {
    "duration": 188,
    "start_time": "2023-03-05T23:49:55.387Z"
   },
   {
    "duration": 161,
    "start_time": "2023-03-05T23:50:02.372Z"
   },
   {
    "duration": 170,
    "start_time": "2023-03-05T23:50:14.810Z"
   },
   {
    "duration": 171,
    "start_time": "2023-03-05T23:50:17.766Z"
   },
   {
    "duration": 165,
    "start_time": "2023-03-05T23:50:31.946Z"
   },
   {
    "duration": 160,
    "start_time": "2023-03-05T23:50:50.923Z"
   },
   {
    "duration": 159,
    "start_time": "2023-03-05T23:50:59.959Z"
   },
   {
    "duration": 53,
    "start_time": "2023-03-05T23:51:51.114Z"
   },
   {
    "duration": 151,
    "start_time": "2023-03-05T23:51:57.923Z"
   },
   {
    "duration": 475,
    "start_time": "2023-03-05T23:52:17.023Z"
   },
   {
    "duration": 29,
    "start_time": "2023-03-05T23:52:17.500Z"
   },
   {
    "duration": 19,
    "start_time": "2023-03-05T23:52:17.530Z"
   },
   {
    "duration": 10,
    "start_time": "2023-03-05T23:52:17.550Z"
   },
   {
    "duration": 58,
    "start_time": "2023-03-05T23:52:17.562Z"
   },
   {
    "duration": 5,
    "start_time": "2023-03-05T23:52:17.621Z"
   },
   {
    "duration": 13,
    "start_time": "2023-03-05T23:52:17.629Z"
   },
   {
    "duration": 5,
    "start_time": "2023-03-05T23:52:17.644Z"
   },
   {
    "duration": 10,
    "start_time": "2023-03-05T23:52:17.650Z"
   },
   {
    "duration": 3,
    "start_time": "2023-03-05T23:52:17.662Z"
   },
   {
    "duration": 50,
    "start_time": "2023-03-05T23:52:17.666Z"
   },
   {
    "duration": 14,
    "start_time": "2023-03-05T23:52:17.723Z"
   },
   {
    "duration": 3,
    "start_time": "2023-03-05T23:52:17.738Z"
   },
   {
    "duration": 11,
    "start_time": "2023-03-05T23:52:17.743Z"
   },
   {
    "duration": 21,
    "start_time": "2023-03-05T23:52:17.755Z"
   },
   {
    "duration": 28,
    "start_time": "2023-03-05T23:52:17.777Z"
   },
   {
    "duration": 12,
    "start_time": "2023-03-05T23:52:17.811Z"
   },
   {
    "duration": 16,
    "start_time": "2023-03-05T23:52:17.829Z"
   },
   {
    "duration": 8,
    "start_time": "2023-03-05T23:52:17.846Z"
   },
   {
    "duration": 3,
    "start_time": "2023-03-05T23:52:17.855Z"
   },
   {
    "duration": 10,
    "start_time": "2023-03-05T23:52:17.860Z"
   },
   {
    "duration": 959,
    "start_time": "2023-03-05T23:52:17.871Z"
   },
   {
    "duration": 144,
    "start_time": "2023-03-05T23:52:18.834Z"
   },
   {
    "duration": 158,
    "start_time": "2023-03-05T23:52:18.979Z"
   },
   {
    "duration": 126,
    "start_time": "2023-03-05T23:52:19.138Z"
   },
   {
    "duration": 121,
    "start_time": "2023-03-05T23:53:48.334Z"
   },
   {
    "duration": 546,
    "start_time": "2023-03-05T23:53:56.084Z"
   },
   {
    "duration": 23,
    "start_time": "2023-03-05T23:53:56.634Z"
   },
   {
    "duration": 14,
    "start_time": "2023-03-05T23:53:56.658Z"
   },
   {
    "duration": 8,
    "start_time": "2023-03-05T23:53:56.674Z"
   },
   {
    "duration": 48,
    "start_time": "2023-03-05T23:53:56.694Z"
   },
   {
    "duration": 3,
    "start_time": "2023-03-05T23:53:56.743Z"
   },
   {
    "duration": 10,
    "start_time": "2023-03-05T23:53:56.747Z"
   },
   {
    "duration": 4,
    "start_time": "2023-03-05T23:53:56.758Z"
   },
   {
    "duration": 10,
    "start_time": "2023-03-05T23:53:56.763Z"
   },
   {
    "duration": 39,
    "start_time": "2023-03-05T23:53:56.775Z"
   },
   {
    "duration": 37,
    "start_time": "2023-03-05T23:53:56.821Z"
   },
   {
    "duration": 9,
    "start_time": "2023-03-05T23:53:56.859Z"
   },
   {
    "duration": 3,
    "start_time": "2023-03-05T23:53:56.869Z"
   },
   {
    "duration": 13,
    "start_time": "2023-03-05T23:53:56.874Z"
   },
   {
    "duration": 30,
    "start_time": "2023-03-05T23:53:56.888Z"
   },
   {
    "duration": 34,
    "start_time": "2023-03-05T23:53:56.919Z"
   },
   {
    "duration": 3,
    "start_time": "2023-03-05T23:53:56.954Z"
   },
   {
    "duration": 11,
    "start_time": "2023-03-05T23:53:56.959Z"
   },
   {
    "duration": 5,
    "start_time": "2023-03-05T23:53:56.971Z"
   },
   {
    "duration": 3,
    "start_time": "2023-03-05T23:53:56.977Z"
   },
   {
    "duration": 11,
    "start_time": "2023-03-05T23:53:56.981Z"
   },
   {
    "duration": 902,
    "start_time": "2023-03-05T23:53:57.000Z"
   },
   {
    "duration": 155,
    "start_time": "2023-03-05T23:53:57.903Z"
   },
   {
    "duration": 128,
    "start_time": "2023-03-05T23:53:58.059Z"
   },
   {
    "duration": 145,
    "start_time": "2023-03-05T23:55:55.090Z"
   },
   {
    "duration": 125,
    "start_time": "2023-03-05T23:56:23.973Z"
   },
   {
    "duration": 156,
    "start_time": "2023-03-05T23:57:01.371Z"
   },
   {
    "duration": 138,
    "start_time": "2023-03-05T23:57:08.670Z"
   },
   {
    "duration": 457,
    "start_time": "2023-03-05T23:57:50.033Z"
   },
   {
    "duration": 26,
    "start_time": "2023-03-05T23:57:50.491Z"
   },
   {
    "duration": 24,
    "start_time": "2023-03-05T23:57:50.518Z"
   },
   {
    "duration": 9,
    "start_time": "2023-03-05T23:57:50.544Z"
   },
   {
    "duration": 30,
    "start_time": "2023-03-05T23:57:50.555Z"
   },
   {
    "duration": 3,
    "start_time": "2023-03-05T23:57:50.587Z"
   },
   {
    "duration": 41,
    "start_time": "2023-03-05T23:57:50.597Z"
   },
   {
    "duration": 4,
    "start_time": "2023-03-05T23:57:50.639Z"
   },
   {
    "duration": 9,
    "start_time": "2023-03-05T23:57:50.644Z"
   },
   {
    "duration": 4,
    "start_time": "2023-03-05T23:57:50.654Z"
   },
   {
    "duration": 37,
    "start_time": "2023-03-05T23:57:50.659Z"
   },
   {
    "duration": 21,
    "start_time": "2023-03-05T23:57:50.705Z"
   },
   {
    "duration": 13,
    "start_time": "2023-03-05T23:57:50.728Z"
   },
   {
    "duration": 11,
    "start_time": "2023-03-05T23:57:50.743Z"
   },
   {
    "duration": 19,
    "start_time": "2023-03-05T23:57:50.755Z"
   },
   {
    "duration": 15,
    "start_time": "2023-03-05T23:57:50.775Z"
   },
   {
    "duration": 4,
    "start_time": "2023-03-05T23:57:50.791Z"
   },
   {
    "duration": 48,
    "start_time": "2023-03-05T23:57:50.796Z"
   },
   {
    "duration": 7,
    "start_time": "2023-03-05T23:57:50.846Z"
   },
   {
    "duration": 3,
    "start_time": "2023-03-05T23:57:50.854Z"
   },
   {
    "duration": 10,
    "start_time": "2023-03-05T23:57:50.859Z"
   },
   {
    "duration": 897,
    "start_time": "2023-03-05T23:57:50.870Z"
   },
   {
    "duration": 166,
    "start_time": "2023-03-05T23:57:51.769Z"
   },
   {
    "duration": 128,
    "start_time": "2023-03-05T23:57:51.937Z"
   },
   {
    "duration": 149,
    "start_time": "2023-03-05T23:57:52.066Z"
   },
   {
    "duration": 48,
    "start_time": "2023-03-07T15:57:12.576Z"
   },
   {
    "duration": 716,
    "start_time": "2023-03-07T15:57:23.803Z"
   },
   {
    "duration": 20,
    "start_time": "2023-03-07T15:57:24.521Z"
   },
   {
    "duration": 13,
    "start_time": "2023-03-07T15:57:24.543Z"
   },
   {
    "duration": 9,
    "start_time": "2023-03-07T15:57:24.558Z"
   },
   {
    "duration": 39,
    "start_time": "2023-03-07T15:57:24.568Z"
   },
   {
    "duration": 3,
    "start_time": "2023-03-07T15:57:24.609Z"
   },
   {
    "duration": 21,
    "start_time": "2023-03-07T15:57:24.614Z"
   },
   {
    "duration": 18,
    "start_time": "2023-03-07T15:57:24.637Z"
   },
   {
    "duration": 12,
    "start_time": "2023-03-07T15:57:24.656Z"
   },
   {
    "duration": 8,
    "start_time": "2023-03-07T15:57:24.671Z"
   },
   {
    "duration": 51,
    "start_time": "2023-03-07T15:57:24.680Z"
   },
   {
    "duration": 10,
    "start_time": "2023-03-07T15:57:24.732Z"
   },
   {
    "duration": 13,
    "start_time": "2023-03-07T15:57:24.743Z"
   },
   {
    "duration": 12,
    "start_time": "2023-03-07T15:57:24.758Z"
   },
   {
    "duration": 23,
    "start_time": "2023-03-07T15:57:24.772Z"
   },
   {
    "duration": 17,
    "start_time": "2023-03-07T15:57:24.797Z"
   },
   {
    "duration": 3,
    "start_time": "2023-03-07T15:57:24.830Z"
   },
   {
    "duration": 18,
    "start_time": "2023-03-07T15:57:24.835Z"
   },
   {
    "duration": 9,
    "start_time": "2023-03-07T15:57:24.855Z"
   },
   {
    "duration": 4,
    "start_time": "2023-03-07T15:57:24.866Z"
   },
   {
    "duration": 19,
    "start_time": "2023-03-07T15:57:24.871Z"
   },
   {
    "duration": 1112,
    "start_time": "2023-03-07T15:57:24.892Z"
   },
   {
    "duration": 155,
    "start_time": "2023-03-07T15:57:26.006Z"
   },
   {
    "duration": 140,
    "start_time": "2023-03-07T15:57:26.163Z"
   },
   {
    "duration": 158,
    "start_time": "2023-03-07T15:57:26.305Z"
   },
   {
    "duration": 137,
    "start_time": "2023-03-07T16:02:47.857Z"
   },
   {
    "duration": 51,
    "start_time": "2023-03-07T19:11:43.073Z"
   },
   {
    "duration": 48,
    "start_time": "2023-03-07T19:11:46.439Z"
   },
   {
    "duration": 466,
    "start_time": "2023-03-07T19:11:52.945Z"
   },
   {
    "duration": 23,
    "start_time": "2023-03-07T19:11:53.413Z"
   },
   {
    "duration": 15,
    "start_time": "2023-03-07T19:11:53.437Z"
   },
   {
    "duration": 11,
    "start_time": "2023-03-07T19:11:53.454Z"
   },
   {
    "duration": 37,
    "start_time": "2023-03-07T19:11:53.467Z"
   },
   {
    "duration": 27,
    "start_time": "2023-03-07T19:11:53.505Z"
   },
   {
    "duration": 14,
    "start_time": "2023-03-07T19:11:53.533Z"
   },
   {
    "duration": 4,
    "start_time": "2023-03-07T19:11:53.549Z"
   },
   {
    "duration": 9,
    "start_time": "2023-03-07T19:11:53.554Z"
   },
   {
    "duration": 4,
    "start_time": "2023-03-07T19:11:53.566Z"
   },
   {
    "duration": 63,
    "start_time": "2023-03-07T19:11:53.571Z"
   },
   {
    "duration": 15,
    "start_time": "2023-03-07T19:11:53.636Z"
   },
   {
    "duration": 5,
    "start_time": "2023-03-07T19:11:53.653Z"
   },
   {
    "duration": 19,
    "start_time": "2023-03-07T19:11:53.659Z"
   },
   {
    "duration": 26,
    "start_time": "2023-03-07T19:11:53.680Z"
   },
   {
    "duration": 31,
    "start_time": "2023-03-07T19:11:53.707Z"
   },
   {
    "duration": 4,
    "start_time": "2023-03-07T19:11:53.739Z"
   },
   {
    "duration": 17,
    "start_time": "2023-03-07T19:11:53.744Z"
   },
   {
    "duration": 9,
    "start_time": "2023-03-07T19:11:53.763Z"
   },
   {
    "duration": 4,
    "start_time": "2023-03-07T19:11:53.774Z"
   },
   {
    "duration": 16,
    "start_time": "2023-03-07T19:11:53.780Z"
   },
   {
    "duration": 923,
    "start_time": "2023-03-07T19:11:53.798Z"
   },
   {
    "duration": 48,
    "start_time": "2023-03-07T19:11:54.723Z"
   },
   {
    "duration": 0,
    "start_time": "2023-03-07T19:11:54.773Z"
   },
   {
    "duration": 0,
    "start_time": "2023-03-07T19:11:54.774Z"
   },
   {
    "duration": 0,
    "start_time": "2023-03-07T19:11:54.775Z"
   },
   {
    "duration": 168,
    "start_time": "2023-03-07T19:12:09.280Z"
   },
   {
    "duration": 425,
    "start_time": "2023-03-07T19:12:14.387Z"
   },
   {
    "duration": 28,
    "start_time": "2023-03-07T19:12:14.814Z"
   },
   {
    "duration": 17,
    "start_time": "2023-03-07T19:12:14.844Z"
   },
   {
    "duration": 8,
    "start_time": "2023-03-07T19:12:14.863Z"
   },
   {
    "duration": 35,
    "start_time": "2023-03-07T19:12:14.873Z"
   },
   {
    "duration": 3,
    "start_time": "2023-03-07T19:12:14.910Z"
   },
   {
    "duration": 11,
    "start_time": "2023-03-07T19:12:14.933Z"
   },
   {
    "duration": 7,
    "start_time": "2023-03-07T19:12:14.947Z"
   },
   {
    "duration": 9,
    "start_time": "2023-03-07T19:12:14.956Z"
   },
   {
    "duration": 4,
    "start_time": "2023-03-07T19:12:14.970Z"
   },
   {
    "duration": 36,
    "start_time": "2023-03-07T19:12:14.976Z"
   },
   {
    "duration": 15,
    "start_time": "2023-03-07T19:12:15.038Z"
   },
   {
    "duration": 6,
    "start_time": "2023-03-07T19:12:15.054Z"
   },
   {
    "duration": 16,
    "start_time": "2023-03-07T19:12:15.062Z"
   },
   {
    "duration": 37,
    "start_time": "2023-03-07T19:12:15.080Z"
   },
   {
    "duration": 19,
    "start_time": "2023-03-07T19:12:15.119Z"
   },
   {
    "duration": 5,
    "start_time": "2023-03-07T19:12:15.140Z"
   },
   {
    "duration": 15,
    "start_time": "2023-03-07T19:12:15.150Z"
   },
   {
    "duration": 9,
    "start_time": "2023-03-07T19:12:15.167Z"
   },
   {
    "duration": 3,
    "start_time": "2023-03-07T19:12:15.178Z"
   },
   {
    "duration": 12,
    "start_time": "2023-03-07T19:12:15.183Z"
   },
   {
    "duration": 1010,
    "start_time": "2023-03-07T19:12:15.196Z"
   },
   {
    "duration": 58,
    "start_time": "2023-03-07T19:12:16.208Z"
   },
   {
    "duration": 0,
    "start_time": "2023-03-07T19:12:16.268Z"
   },
   {
    "duration": 0,
    "start_time": "2023-03-07T19:12:16.269Z"
   },
   {
    "duration": 0,
    "start_time": "2023-03-07T19:12:16.270Z"
   },
   {
    "duration": 498,
    "start_time": "2023-03-07T19:12:28.946Z"
   },
   {
    "duration": 22,
    "start_time": "2023-03-07T19:12:29.450Z"
   },
   {
    "duration": 13,
    "start_time": "2023-03-07T19:12:29.474Z"
   },
   {
    "duration": 10,
    "start_time": "2023-03-07T19:12:29.489Z"
   },
   {
    "duration": 58,
    "start_time": "2023-03-07T19:12:29.502Z"
   },
   {
    "duration": 4,
    "start_time": "2023-03-07T19:12:29.562Z"
   },
   {
    "duration": 12,
    "start_time": "2023-03-07T19:12:29.568Z"
   },
   {
    "duration": 11,
    "start_time": "2023-03-07T19:12:29.581Z"
   },
   {
    "duration": 11,
    "start_time": "2023-03-07T19:12:29.594Z"
   },
   {
    "duration": 9,
    "start_time": "2023-03-07T19:12:29.607Z"
   },
   {
    "duration": 53,
    "start_time": "2023-03-07T19:12:29.617Z"
   },
   {
    "duration": 12,
    "start_time": "2023-03-07T19:12:29.672Z"
   },
   {
    "duration": 9,
    "start_time": "2023-03-07T19:12:29.685Z"
   },
   {
    "duration": 17,
    "start_time": "2023-03-07T19:12:29.696Z"
   },
   {
    "duration": 33,
    "start_time": "2023-03-07T19:12:29.714Z"
   },
   {
    "duration": 17,
    "start_time": "2023-03-07T19:12:29.749Z"
   },
   {
    "duration": 4,
    "start_time": "2023-03-07T19:12:29.767Z"
   },
   {
    "duration": 11,
    "start_time": "2023-03-07T19:12:29.772Z"
   },
   {
    "duration": 14,
    "start_time": "2023-03-07T19:12:29.785Z"
   },
   {
    "duration": 7,
    "start_time": "2023-03-07T19:12:29.800Z"
   },
   {
    "duration": 25,
    "start_time": "2023-03-07T19:12:29.809Z"
   },
   {
    "duration": 894,
    "start_time": "2023-03-07T19:12:29.835Z"
   },
   {
    "duration": 165,
    "start_time": "2023-03-07T19:12:30.731Z"
   },
   {
    "duration": 140,
    "start_time": "2023-03-07T19:12:30.897Z"
   },
   {
    "duration": 163,
    "start_time": "2023-03-07T19:12:31.041Z"
   },
   {
    "duration": 48,
    "start_time": "2023-03-07T19:13:19.839Z"
   },
   {
    "duration": 154,
    "start_time": "2023-03-07T19:19:45.144Z"
   },
   {
    "duration": 158,
    "start_time": "2023-03-07T19:20:05.420Z"
   },
   {
    "duration": 161,
    "start_time": "2023-03-07T19:20:29.387Z"
   },
   {
    "duration": 148,
    "start_time": "2023-03-07T19:22:05.020Z"
   },
   {
    "duration": 171,
    "start_time": "2023-03-07T19:22:09.880Z"
   },
   {
    "duration": 40,
    "start_time": "2023-03-07T19:23:07.428Z"
   },
   {
    "duration": 150,
    "start_time": "2023-03-07T19:23:15.664Z"
   },
   {
    "duration": 216,
    "start_time": "2023-03-07T21:29:46.017Z"
   },
   {
    "duration": 66,
    "start_time": "2023-03-07T21:30:30.782Z"
   },
   {
    "duration": 137,
    "start_time": "2023-03-07T21:30:43.449Z"
   },
   {
    "duration": 140,
    "start_time": "2023-03-07T21:30:51.705Z"
   },
   {
    "duration": 141,
    "start_time": "2023-03-07T21:31:07.821Z"
   },
   {
    "duration": 148,
    "start_time": "2023-03-07T21:31:20.268Z"
   },
   {
    "duration": 141,
    "start_time": "2023-03-07T21:31:39.421Z"
   },
   {
    "duration": 124,
    "start_time": "2023-03-07T21:32:23.549Z"
   },
   {
    "duration": 122,
    "start_time": "2023-03-07T21:32:33.537Z"
   },
   {
    "duration": 145,
    "start_time": "2023-03-07T21:39:29.445Z"
   },
   {
    "duration": 148,
    "start_time": "2023-03-07T21:39:47.120Z"
   },
   {
    "duration": 155,
    "start_time": "2023-03-07T21:40:07.127Z"
   },
   {
    "duration": 217,
    "start_time": "2023-03-07T21:40:25.949Z"
   },
   {
    "duration": 141,
    "start_time": "2023-03-07T22:02:19.671Z"
   },
   {
    "duration": 129,
    "start_time": "2023-03-07T22:02:27.004Z"
   },
   {
    "duration": 136,
    "start_time": "2023-03-07T22:45:09.137Z"
   },
   {
    "duration": 52,
    "start_time": "2023-03-07T22:52:29.211Z"
   },
   {
    "duration": 138,
    "start_time": "2023-03-07T22:52:53.318Z"
   },
   {
    "duration": 148,
    "start_time": "2023-03-07T23:00:08.263Z"
   },
   {
    "duration": 140,
    "start_time": "2023-03-07T23:00:36.370Z"
   },
   {
    "duration": 136,
    "start_time": "2023-03-07T23:02:12.620Z"
   },
   {
    "duration": 126,
    "start_time": "2023-03-07T23:03:10.777Z"
   },
   {
    "duration": 128,
    "start_time": "2023-03-07T23:03:28.775Z"
   },
   {
    "duration": 132,
    "start_time": "2023-03-07T23:03:33.062Z"
   },
   {
    "duration": 142,
    "start_time": "2023-03-07T23:05:17.535Z"
   },
   {
    "duration": 221,
    "start_time": "2023-03-07T23:29:37.701Z"
   },
   {
    "duration": 133,
    "start_time": "2023-03-07T23:29:42.581Z"
   },
   {
    "duration": 45,
    "start_time": "2023-03-07T23:29:49.440Z"
   },
   {
    "duration": 143,
    "start_time": "2023-03-07T23:29:55.986Z"
   },
   {
    "duration": 137,
    "start_time": "2023-03-07T23:41:16.213Z"
   },
   {
    "duration": 144,
    "start_time": "2023-03-07T23:44:23.908Z"
   },
   {
    "duration": 123,
    "start_time": "2023-03-07T23:44:45.447Z"
   },
   {
    "duration": 125,
    "start_time": "2023-03-07T23:44:52.263Z"
   },
   {
    "duration": 135,
    "start_time": "2023-03-08T00:40:39.355Z"
   },
   {
    "duration": 128,
    "start_time": "2023-03-08T00:41:00.860Z"
   },
   {
    "duration": 135,
    "start_time": "2023-03-08T00:41:10.266Z"
   },
   {
    "duration": 491,
    "start_time": "2023-03-08T00:41:18.207Z"
   },
   {
    "duration": 20,
    "start_time": "2023-03-08T00:41:18.700Z"
   },
   {
    "duration": 13,
    "start_time": "2023-03-08T00:41:18.722Z"
   },
   {
    "duration": 9,
    "start_time": "2023-03-08T00:41:18.737Z"
   },
   {
    "duration": 32,
    "start_time": "2023-03-08T00:41:18.748Z"
   },
   {
    "duration": 3,
    "start_time": "2023-03-08T00:41:18.782Z"
   },
   {
    "duration": 13,
    "start_time": "2023-03-08T00:41:18.787Z"
   },
   {
    "duration": 4,
    "start_time": "2023-03-08T00:41:18.801Z"
   },
   {
    "duration": 24,
    "start_time": "2023-03-08T00:41:18.807Z"
   },
   {
    "duration": 4,
    "start_time": "2023-03-08T00:41:18.834Z"
   },
   {
    "duration": 43,
    "start_time": "2023-03-08T00:41:18.840Z"
   },
   {
    "duration": 11,
    "start_time": "2023-03-08T00:41:18.885Z"
   },
   {
    "duration": 4,
    "start_time": "2023-03-08T00:41:18.897Z"
   },
   {
    "duration": 28,
    "start_time": "2023-03-08T00:41:18.902Z"
   },
   {
    "duration": 18,
    "start_time": "2023-03-08T00:41:18.932Z"
   },
   {
    "duration": 15,
    "start_time": "2023-03-08T00:41:18.952Z"
   },
   {
    "duration": 3,
    "start_time": "2023-03-08T00:41:18.968Z"
   },
   {
    "duration": 18,
    "start_time": "2023-03-08T00:41:18.973Z"
   },
   {
    "duration": 5,
    "start_time": "2023-03-08T00:41:18.993Z"
   },
   {
    "duration": 4,
    "start_time": "2023-03-08T00:41:18.999Z"
   },
   {
    "duration": 31,
    "start_time": "2023-03-08T00:41:19.005Z"
   },
   {
    "duration": 846,
    "start_time": "2023-03-08T00:41:19.038Z"
   },
   {
    "duration": 139,
    "start_time": "2023-03-08T00:41:19.885Z"
   },
   {
    "duration": 130,
    "start_time": "2023-03-08T00:41:20.026Z"
   },
   {
    "duration": 137,
    "start_time": "2023-03-08T00:41:20.157Z"
   },
   {
    "duration": 464,
    "start_time": "2023-03-08T16:25:39.848Z"
   },
   {
    "duration": 21,
    "start_time": "2023-03-08T16:25:40.314Z"
   },
   {
    "duration": 15,
    "start_time": "2023-03-08T16:25:40.337Z"
   },
   {
    "duration": 10,
    "start_time": "2023-03-08T16:25:40.353Z"
   },
   {
    "duration": 30,
    "start_time": "2023-03-08T16:25:40.365Z"
   },
   {
    "duration": 3,
    "start_time": "2023-03-08T16:25:40.397Z"
   },
   {
    "duration": 33,
    "start_time": "2023-03-08T16:25:40.401Z"
   },
   {
    "duration": 4,
    "start_time": "2023-03-08T16:25:40.436Z"
   },
   {
    "duration": 9,
    "start_time": "2023-03-08T16:25:40.441Z"
   },
   {
    "duration": 4,
    "start_time": "2023-03-08T16:25:40.451Z"
   },
   {
    "duration": 35,
    "start_time": "2023-03-08T16:25:40.456Z"
   },
   {
    "duration": 10,
    "start_time": "2023-03-08T16:25:40.493Z"
   },
   {
    "duration": 5,
    "start_time": "2023-03-08T16:25:40.532Z"
   },
   {
    "duration": 16,
    "start_time": "2023-03-08T16:25:40.539Z"
   },
   {
    "duration": 22,
    "start_time": "2023-03-08T16:25:40.556Z"
   },
   {
    "duration": 16,
    "start_time": "2023-03-08T16:25:40.580Z"
   },
   {
    "duration": 4,
    "start_time": "2023-03-08T16:25:40.597Z"
   },
   {
    "duration": 32,
    "start_time": "2023-03-08T16:25:40.603Z"
   },
   {
    "duration": 6,
    "start_time": "2023-03-08T16:25:40.637Z"
   },
   {
    "duration": 4,
    "start_time": "2023-03-08T16:25:40.645Z"
   },
   {
    "duration": 14,
    "start_time": "2023-03-08T16:25:40.650Z"
   },
   {
    "duration": 851,
    "start_time": "2023-03-08T16:25:40.665Z"
   },
   {
    "duration": 20,
    "start_time": "2023-03-08T16:25:41.518Z"
   },
   {
    "duration": 152,
    "start_time": "2023-03-08T16:25:41.539Z"
   },
   {
    "duration": 134,
    "start_time": "2023-03-08T16:25:41.693Z"
   },
   {
    "duration": 143,
    "start_time": "2023-03-08T16:25:41.829Z"
   },
   {
    "duration": 20,
    "start_time": "2023-03-08T16:26:02.843Z"
   },
   {
    "duration": 16,
    "start_time": "2023-03-08T16:26:25.428Z"
   },
   {
    "duration": 21,
    "start_time": "2023-03-08T16:26:30.037Z"
   },
   {
    "duration": 79,
    "start_time": "2023-03-19T02:27:13.198Z"
   },
   {
    "duration": 727,
    "start_time": "2023-03-19T16:38:29.680Z"
   },
   {
    "duration": 19,
    "start_time": "2023-03-19T16:38:30.409Z"
   },
   {
    "duration": 34,
    "start_time": "2023-03-19T16:38:30.430Z"
   },
   {
    "duration": 27,
    "start_time": "2023-03-19T16:38:30.466Z"
   },
   {
    "duration": 33,
    "start_time": "2023-03-19T16:38:30.496Z"
   },
   {
    "duration": 3,
    "start_time": "2023-03-19T16:38:30.531Z"
   },
   {
    "duration": 26,
    "start_time": "2023-03-19T16:38:30.536Z"
   },
   {
    "duration": 25,
    "start_time": "2023-03-19T16:38:30.563Z"
   },
   {
    "duration": 38,
    "start_time": "2023-03-19T16:38:30.589Z"
   },
   {
    "duration": 30,
    "start_time": "2023-03-19T16:38:30.628Z"
   },
   {
    "duration": 69,
    "start_time": "2023-03-19T16:38:30.659Z"
   },
   {
    "duration": 13,
    "start_time": "2023-03-19T16:38:30.729Z"
   },
   {
    "duration": 42,
    "start_time": "2023-03-19T16:38:30.743Z"
   },
   {
    "duration": 52,
    "start_time": "2023-03-19T16:38:30.787Z"
   },
   {
    "duration": 65,
    "start_time": "2023-03-19T16:38:30.840Z"
   },
   {
    "duration": 70,
    "start_time": "2023-03-19T16:38:30.907Z"
   },
   {
    "duration": 55,
    "start_time": "2023-03-19T16:38:30.978Z"
   },
   {
    "duration": 72,
    "start_time": "2023-03-19T16:38:31.035Z"
   },
   {
    "duration": 81,
    "start_time": "2023-03-19T16:38:31.108Z"
   },
   {
    "duration": 45,
    "start_time": "2023-03-19T16:38:31.190Z"
   },
   {
    "duration": 46,
    "start_time": "2023-03-19T16:38:31.236Z"
   },
   {
    "duration": 815,
    "start_time": "2023-03-19T16:38:31.284Z"
   },
   {
    "duration": 19,
    "start_time": "2023-03-19T16:38:32.100Z"
   },
   {
    "duration": 148,
    "start_time": "2023-03-19T16:38:32.121Z"
   },
   {
    "duration": 139,
    "start_time": "2023-03-19T16:38:32.271Z"
   },
   {
    "duration": 120,
    "start_time": "2023-03-19T16:38:32.411Z"
   }
  ],
  "colab": {
   "provenance": []
  },
  "kernelspec": {
   "display_name": "Python 3 (ipykernel)",
   "language": "python",
   "name": "python3"
  },
  "language_info": {
   "codemirror_mode": {
    "name": "ipython",
    "version": 3
   },
   "file_extension": ".py",
   "mimetype": "text/x-python",
   "name": "python",
   "nbconvert_exporter": "python",
   "pygments_lexer": "ipython3",
   "version": "3.10.9"
  },
  "toc": {
   "base_numbering": 1,
   "nav_menu": {},
   "number_sections": true,
   "sideBar": true,
   "skip_h1_title": true,
   "title_cell": "Table of Contents",
   "title_sidebar": "Contents",
   "toc_cell": false,
   "toc_position": {},
   "toc_section_display": true,
   "toc_window_display": false
  }
 },
 "nbformat": 4,
 "nbformat_minor": 5
}
